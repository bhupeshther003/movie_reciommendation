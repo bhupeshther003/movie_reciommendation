{
  "cells": [
    {
      "cell_type": "markdown",
      "metadata": {
        "id": "G9w85mAaKUkY"
      },
      "source": [
        "## **Movie Recommemdation System **"
      ]
    },
    {
      "cell_type": "code",
      "execution_count": 9,
      "metadata": {
        "id": "D_AjXkatKSzl"
      },
      "outputs": [],
      "source": [
        "import pandas as pd\n",
        "import numpy as np\n",
        "import matplotlib.pyplot as plt\n",
        "%matplotlib  inline"
      ]
    },
    {
      "cell_type": "code",
      "execution_count": 10,
      "metadata": {},
      "outputs": [
        {
          "name": "stdout",
          "output_type": "stream",
          "text": [
            "Requirement already satisfied: pandas in c:\\users\\chaud\\appdata\\local\\programs\\python\\python312\\lib\\site-packages (2.1.4)\n",
            "Requirement already satisfied: numpy<2,>=1.26.0 in c:\\users\\chaud\\appdata\\local\\programs\\python\\python312\\lib\\site-packages (from pandas) (1.26.1)\n",
            "Requirement already satisfied: python-dateutil>=2.8.2 in c:\\users\\chaud\\appdata\\local\\programs\\python\\python312\\lib\\site-packages (from pandas) (2.8.2)\n",
            "Requirement already satisfied: pytz>=2020.1 in c:\\users\\chaud\\appdata\\local\\programs\\python\\python312\\lib\\site-packages (from pandas) (2023.3.post1)\n",
            "Requirement already satisfied: tzdata>=2022.1 in c:\\users\\chaud\\appdata\\local\\programs\\python\\python312\\lib\\site-packages (from pandas) (2023.3)\n",
            "Requirement already satisfied: six>=1.5 in c:\\users\\chaud\\appdata\\local\\programs\\python\\python312\\lib\\site-packages (from python-dateutil>=2.8.2->pandas) (1.16.0)\n",
            "Requirement already satisfied: numpy in c:\\users\\chaud\\appdata\\local\\programs\\python\\python312\\lib\\site-packages (1.26.1)\n",
            "Requirement already satisfied: matplotlib in c:\\users\\chaud\\appdata\\local\\programs\\python\\python312\\lib\\site-packages (3.8.2)\n",
            "Requirement already satisfied: contourpy>=1.0.1 in c:\\users\\chaud\\appdata\\local\\programs\\python\\python312\\lib\\site-packages (from matplotlib) (1.2.0)\n",
            "Requirement already satisfied: cycler>=0.10 in c:\\users\\chaud\\appdata\\local\\programs\\python\\python312\\lib\\site-packages (from matplotlib) (0.12.1)\n",
            "Requirement already satisfied: fonttools>=4.22.0 in c:\\users\\chaud\\appdata\\local\\programs\\python\\python312\\lib\\site-packages (from matplotlib) (4.45.0)\n",
            "Requirement already satisfied: kiwisolver>=1.3.1 in c:\\users\\chaud\\appdata\\local\\programs\\python\\python312\\lib\\site-packages (from matplotlib) (1.4.5)\n",
            "Requirement already satisfied: numpy<2,>=1.21 in c:\\users\\chaud\\appdata\\local\\programs\\python\\python312\\lib\\site-packages (from matplotlib) (1.26.1)\n",
            "Requirement already satisfied: packaging>=20.0 in c:\\users\\chaud\\appdata\\local\\programs\\python\\python312\\lib\\site-packages (from matplotlib) (23.2)\n",
            "Requirement already satisfied: pillow>=8 in c:\\users\\chaud\\appdata\\local\\programs\\python\\python312\\lib\\site-packages (from matplotlib) (10.1.0)\n",
            "Requirement already satisfied: pyparsing>=2.3.1 in c:\\users\\chaud\\appdata\\local\\programs\\python\\python312\\lib\\site-packages (from matplotlib) (3.1.1)\n",
            "Requirement already satisfied: python-dateutil>=2.7 in c:\\users\\chaud\\appdata\\local\\programs\\python\\python312\\lib\\site-packages (from matplotlib) (2.8.2)\n",
            "Requirement already satisfied: six>=1.5 in c:\\users\\chaud\\appdata\\local\\programs\\python\\python312\\lib\\site-packages (from python-dateutil>=2.7->matplotlib) (1.16.0)\n"
          ]
        }
      ],
      "source": [
        "!pip install pandas\n",
        "!pip install numpy \n",
        "!pip install matplotlib "
      ]
    },
    {
      "cell_type": "code",
      "execution_count": 11,
      "metadata": {
        "execution": {
          "iopub.execute_input": "2023-12-07T06:58:02.451443Z",
          "iopub.status.busy": "2023-12-07T06:58:02.450818Z",
          "iopub.status.idle": "2023-12-07T06:58:03.673661Z",
          "shell.execute_reply": "2023-12-07T06:58:03.672372Z",
          "shell.execute_reply.started": "2023-12-07T06:58:02.451405Z"
        },
        "id": "e8i3TDX5Ha4_",
        "trusted": true
      },
      "outputs": [],
      "source": [
        "movie=pd.read_csv('tmdb_5000_credits.csv')\n",
        "movie_credit=pd.read_csv('tmdb_5000_movies.csv')"
      ]
    },
    {
      "cell_type": "code",
      "execution_count": 12,
      "metadata": {
        "colab": {
          "base_uri": "https://localhost:8080/"
        },
        "execution": {
          "iopub.execute_input": "2023-12-07T06:58:03.676599Z",
          "iopub.status.busy": "2023-12-07T06:58:03.675235Z",
          "iopub.status.idle": "2023-12-07T06:58:03.684443Z",
          "shell.execute_reply": "2023-12-07T06:58:03.681478Z",
          "shell.execute_reply.started": "2023-12-07T06:58:03.676561Z"
        },
        "id": "lXDzJ8wOHa4_",
        "outputId": "0719535f-4298-47a0-aea9-7515ff2bb342",
        "trusted": true
      },
      "outputs": [
        {
          "name": "stdout",
          "output_type": "stream",
          "text": [
            "      movie_id                                     title  \\\n",
            "0        19995                                    Avatar   \n",
            "1          285  Pirates of the Caribbean: At World's End   \n",
            "2       206647                                   Spectre   \n",
            "3        49026                     The Dark Knight Rises   \n",
            "4        49529                               John Carter   \n",
            "...        ...                                       ...   \n",
            "4798      9367                               El Mariachi   \n",
            "4799     72766                                 Newlyweds   \n",
            "4800    231617                 Signed, Sealed, Delivered   \n",
            "4801    126186                          Shanghai Calling   \n",
            "4802     25975                         My Date with Drew   \n",
            "\n",
            "                                                   cast  \\\n",
            "0     [{\"cast_id\": 242, \"character\": \"Jake Sully\", \"...   \n",
            "1     [{\"cast_id\": 4, \"character\": \"Captain Jack Spa...   \n",
            "2     [{\"cast_id\": 1, \"character\": \"James Bond\", \"cr...   \n",
            "3     [{\"cast_id\": 2, \"character\": \"Bruce Wayne / Ba...   \n",
            "4     [{\"cast_id\": 5, \"character\": \"John Carter\", \"c...   \n",
            "...                                                 ...   \n",
            "4798  [{\"cast_id\": 1, \"character\": \"El Mariachi\", \"c...   \n",
            "4799  [{\"cast_id\": 1, \"character\": \"Buzzy\", \"credit_...   \n",
            "4800  [{\"cast_id\": 8, \"character\": \"Oliver O\\u2019To...   \n",
            "4801  [{\"cast_id\": 3, \"character\": \"Sam\", \"credit_id...   \n",
            "4802  [{\"cast_id\": 3, \"character\": \"Herself\", \"credi...   \n",
            "\n",
            "                                                   crew  \n",
            "0     [{\"credit_id\": \"52fe48009251416c750aca23\", \"de...  \n",
            "1     [{\"credit_id\": \"52fe4232c3a36847f800b579\", \"de...  \n",
            "2     [{\"credit_id\": \"54805967c3a36829b5002c41\", \"de...  \n",
            "3     [{\"credit_id\": \"52fe4781c3a36847f81398c3\", \"de...  \n",
            "4     [{\"credit_id\": \"52fe479ac3a36847f813eaa3\", \"de...  \n",
            "...                                                 ...  \n",
            "4798  [{\"credit_id\": \"52fe44eec3a36847f80b280b\", \"de...  \n",
            "4799  [{\"credit_id\": \"52fe487dc3a368484e0fb013\", \"de...  \n",
            "4800  [{\"credit_id\": \"52fe4df3c3a36847f8275ecf\", \"de...  \n",
            "4801  [{\"credit_id\": \"52fe4ad9c3a368484e16a36b\", \"de...  \n",
            "4802  [{\"credit_id\": \"58ce021b9251415a390165d9\", \"de...  \n",
            "\n",
            "[4803 rows x 4 columns] \n",
            "\n",
            "         budget                                             genres  \\\n",
            "0     237000000  [{\"id\": 28, \"name\": \"Action\"}, {\"id\": 12, \"nam...   \n",
            "1     300000000  [{\"id\": 12, \"name\": \"Adventure\"}, {\"id\": 14, \"...   \n",
            "2     245000000  [{\"id\": 28, \"name\": \"Action\"}, {\"id\": 12, \"nam...   \n",
            "3     250000000  [{\"id\": 28, \"name\": \"Action\"}, {\"id\": 80, \"nam...   \n",
            "4     260000000  [{\"id\": 28, \"name\": \"Action\"}, {\"id\": 12, \"nam...   \n",
            "...         ...                                                ...   \n",
            "4798     220000  [{\"id\": 28, \"name\": \"Action\"}, {\"id\": 80, \"nam...   \n",
            "4799       9000  [{\"id\": 35, \"name\": \"Comedy\"}, {\"id\": 10749, \"...   \n",
            "4800          0  [{\"id\": 35, \"name\": \"Comedy\"}, {\"id\": 18, \"nam...   \n",
            "4801          0                                                 []   \n",
            "4802          0                [{\"id\": 99, \"name\": \"Documentary\"}]   \n",
            "\n",
            "                                               homepage      id  \\\n",
            "0                           http://www.avatarmovie.com/   19995   \n",
            "1          http://disney.go.com/disneypictures/pirates/     285   \n",
            "2           http://www.sonypictures.com/movies/spectre/  206647   \n",
            "3                    http://www.thedarkknightrises.com/   49026   \n",
            "4                  http://movies.disney.com/john-carter   49529   \n",
            "...                                                 ...     ...   \n",
            "4798                                                NaN    9367   \n",
            "4799                                                NaN   72766   \n",
            "4800  http://www.hallmarkchannel.com/signedsealeddel...  231617   \n",
            "4801                        http://shanghaicalling.com/  126186   \n",
            "4802                                                NaN   25975   \n",
            "\n",
            "                                               keywords original_language  \\\n",
            "0     [{\"id\": 1463, \"name\": \"culture clash\"}, {\"id\":...                en   \n",
            "1     [{\"id\": 270, \"name\": \"ocean\"}, {\"id\": 726, \"na...                en   \n",
            "2     [{\"id\": 470, \"name\": \"spy\"}, {\"id\": 818, \"name...                en   \n",
            "3     [{\"id\": 849, \"name\": \"dc comics\"}, {\"id\": 853,...                en   \n",
            "4     [{\"id\": 818, \"name\": \"based on novel\"}, {\"id\":...                en   \n",
            "...                                                 ...               ...   \n",
            "4798  [{\"id\": 5616, \"name\": \"united states\\u2013mexi...                es   \n",
            "4799                                                 []                en   \n",
            "4800  [{\"id\": 248, \"name\": \"date\"}, {\"id\": 699, \"nam...                en   \n",
            "4801                                                 []                en   \n",
            "4802  [{\"id\": 1523, \"name\": \"obsession\"}, {\"id\": 224...                en   \n",
            "\n",
            "                                original_title  \\\n",
            "0                                       Avatar   \n",
            "1     Pirates of the Caribbean: At World's End   \n",
            "2                                      Spectre   \n",
            "3                        The Dark Knight Rises   \n",
            "4                                  John Carter   \n",
            "...                                        ...   \n",
            "4798                               El Mariachi   \n",
            "4799                                 Newlyweds   \n",
            "4800                 Signed, Sealed, Delivered   \n",
            "4801                          Shanghai Calling   \n",
            "4802                         My Date with Drew   \n",
            "\n",
            "                                               overview  popularity  \\\n",
            "0     In the 22nd century, a paraplegic Marine is di...  150.437577   \n",
            "1     Captain Barbossa, long believed to be dead, ha...  139.082615   \n",
            "2     A cryptic message from Bond’s past sends him o...  107.376788   \n",
            "3     Following the death of District Attorney Harve...  112.312950   \n",
            "4     John Carter is a war-weary, former military ca...   43.926995   \n",
            "...                                                 ...         ...   \n",
            "4798  El Mariachi just wants to play his guitar and ...   14.269792   \n",
            "4799  A newlywed couple's honeymoon is upended by th...    0.642552   \n",
            "4800  \"Signed, Sealed, Delivered\" introduces a dedic...    1.444476   \n",
            "4801  When ambitious New York attorney Sam is sent t...    0.857008   \n",
            "4802  Ever since the second grade when he first saw ...    1.929883   \n",
            "\n",
            "                                   production_companies  \\\n",
            "0     [{\"name\": \"Ingenious Film Partners\", \"id\": 289...   \n",
            "1     [{\"name\": \"Walt Disney Pictures\", \"id\": 2}, {\"...   \n",
            "2     [{\"name\": \"Columbia Pictures\", \"id\": 5}, {\"nam...   \n",
            "3     [{\"name\": \"Legendary Pictures\", \"id\": 923}, {\"...   \n",
            "4           [{\"name\": \"Walt Disney Pictures\", \"id\": 2}]   \n",
            "...                                                 ...   \n",
            "4798           [{\"name\": \"Columbia Pictures\", \"id\": 5}]   \n",
            "4799                                                 []   \n",
            "4800  [{\"name\": \"Front Street Pictures\", \"id\": 3958}...   \n",
            "4801                                                 []   \n",
            "4802  [{\"name\": \"rusty bear entertainment\", \"id\": 87...   \n",
            "\n",
            "                                   production_countries release_date  \\\n",
            "0     [{\"iso_3166_1\": \"US\", \"name\": \"United States o...   2009-12-10   \n",
            "1     [{\"iso_3166_1\": \"US\", \"name\": \"United States o...   2007-05-19   \n",
            "2     [{\"iso_3166_1\": \"GB\", \"name\": \"United Kingdom\"...   2015-10-26   \n",
            "3     [{\"iso_3166_1\": \"US\", \"name\": \"United States o...   2012-07-16   \n",
            "4     [{\"iso_3166_1\": \"US\", \"name\": \"United States o...   2012-03-07   \n",
            "...                                                 ...          ...   \n",
            "4798  [{\"iso_3166_1\": \"MX\", \"name\": \"Mexico\"}, {\"iso...   1992-09-04   \n",
            "4799                                                 []   2011-12-26   \n",
            "4800  [{\"iso_3166_1\": \"US\", \"name\": \"United States o...   2013-10-13   \n",
            "4801  [{\"iso_3166_1\": \"US\", \"name\": \"United States o...   2012-05-03   \n",
            "4802  [{\"iso_3166_1\": \"US\", \"name\": \"United States o...   2005-08-05   \n",
            "\n",
            "         revenue  runtime                                   spoken_languages  \\\n",
            "0     2787965087    162.0  [{\"iso_639_1\": \"en\", \"name\": \"English\"}, {\"iso...   \n",
            "1      961000000    169.0           [{\"iso_639_1\": \"en\", \"name\": \"English\"}]   \n",
            "2      880674609    148.0  [{\"iso_639_1\": \"fr\", \"name\": \"Fran\\u00e7ais\"},...   \n",
            "3     1084939099    165.0           [{\"iso_639_1\": \"en\", \"name\": \"English\"}]   \n",
            "4      284139100    132.0           [{\"iso_639_1\": \"en\", \"name\": \"English\"}]   \n",
            "...          ...      ...                                                ...   \n",
            "4798     2040920     81.0      [{\"iso_639_1\": \"es\", \"name\": \"Espa\\u00f1ol\"}]   \n",
            "4799           0     85.0                                                 []   \n",
            "4800           0    120.0           [{\"iso_639_1\": \"en\", \"name\": \"English\"}]   \n",
            "4801           0     98.0           [{\"iso_639_1\": \"en\", \"name\": \"English\"}]   \n",
            "4802           0     90.0           [{\"iso_639_1\": \"en\", \"name\": \"English\"}]   \n",
            "\n",
            "        status                                            tagline  \\\n",
            "0     Released                        Enter the World of Pandora.   \n",
            "1     Released     At the end of the world, the adventure begins.   \n",
            "2     Released                              A Plan No One Escapes   \n",
            "3     Released                                    The Legend Ends   \n",
            "4     Released               Lost in our world, found in another.   \n",
            "...        ...                                                ...   \n",
            "4798  Released  He didn't come looking for trouble, but troubl...   \n",
            "4799  Released  A newlywed couple's honeymoon is upended by th...   \n",
            "4800  Released                                                NaN   \n",
            "4801  Released                           A New Yorker in Shanghai   \n",
            "4802  Released                                                NaN   \n",
            "\n",
            "                                         title  vote_average  vote_count  \n",
            "0                                       Avatar           7.2       11800  \n",
            "1     Pirates of the Caribbean: At World's End           6.9        4500  \n",
            "2                                      Spectre           6.3        4466  \n",
            "3                        The Dark Knight Rises           7.6        9106  \n",
            "4                                  John Carter           6.1        2124  \n",
            "...                                        ...           ...         ...  \n",
            "4798                               El Mariachi           6.6         238  \n",
            "4799                                 Newlyweds           5.9           5  \n",
            "4800                 Signed, Sealed, Delivered           7.0           6  \n",
            "4801                          Shanghai Calling           5.7           7  \n",
            "4802                         My Date with Drew           6.3          16  \n",
            "\n",
            "[4803 rows x 20 columns]\n"
          ]
        }
      ],
      "source": [
        "print(movie,'\\n')\n",
        "print(movie_credit)\n",
        "\n"
      ]
    },
    {
      "cell_type": "code",
      "execution_count": 13,
      "metadata": {
        "colab": {
          "base_uri": "https://localhost:8080/"
        },
        "execution": {
          "iopub.execute_input": "2023-12-07T06:58:03.689024Z",
          "iopub.status.busy": "2023-12-07T06:58:03.687854Z",
          "iopub.status.idle": "2023-12-07T06:58:03.698015Z",
          "shell.execute_reply": "2023-12-07T06:58:03.696679Z",
          "shell.execute_reply.started": "2023-12-07T06:58:03.688934Z"
        },
        "id": "vvV2YmS_Ha4_",
        "outputId": "06fc066c-b79d-4667-b41e-08bc1ac93fdd",
        "trusted": true
      },
      "outputs": [
        {
          "name": "stdout",
          "output_type": "stream",
          "text": [
            "Index(['movie_id', 'title', 'cast', 'crew'], dtype='object')\n",
            "Index(['budget', 'genres', 'homepage', 'id', 'keywords', 'original_language',\n",
            "       'original_title', 'overview', 'popularity', 'production_companies',\n",
            "       'production_countries', 'release_date', 'revenue', 'runtime',\n",
            "       'spoken_languages', 'status', 'tagline', 'title', 'vote_average',\n",
            "       'vote_count'],\n",
            "      dtype='object')\n"
          ]
        }
      ],
      "source": [
        "print(movie.columns)\n",
        "print(movie_credit.columns)"
      ]
    },
    {
      "cell_type": "code",
      "execution_count": 14,
      "metadata": {
        "colab": {
          "base_uri": "https://localhost:8080/"
        },
        "execution": {
          "iopub.execute_input": "2023-12-07T06:58:03.700639Z",
          "iopub.status.busy": "2023-12-07T06:58:03.699695Z",
          "iopub.status.idle": "2023-12-07T06:58:03.717666Z",
          "shell.execute_reply": "2023-12-07T06:58:03.716256Z",
          "shell.execute_reply.started": "2023-12-07T06:58:03.700596Z"
        },
        "id": "TqJ3gR-gHa5A",
        "outputId": "3a5f6f4e-8225-4ce7-d7e8-22f0ecefa505",
        "trusted": true
      },
      "outputs": [
        {
          "name": "stdout",
          "output_type": "stream",
          "text": [
            "19995\n",
            "19995\n"
          ]
        }
      ],
      "source": [
        "#   try to find  column column based on the give dataset\n",
        "print(movie.movie_id[0])\n",
        "print(movie_credit.id[0])"
      ]
    },
    {
      "cell_type": "code",
      "execution_count": 15,
      "metadata": {
        "colab": {
          "base_uri": "https://localhost:8080/"
        },
        "execution": {
          "iopub.execute_input": "2023-12-07T06:58:03.720422Z",
          "iopub.status.busy": "2023-12-07T06:58:03.719844Z",
          "iopub.status.idle": "2023-12-07T06:58:03.729528Z",
          "shell.execute_reply": "2023-12-07T06:58:03.728047Z",
          "shell.execute_reply.started": "2023-12-07T06:58:03.720376Z"
        },
        "id": "b11sN41KHa5A",
        "outputId": "770ef6eb-6e19-49b0-e425-d65209c5e47d",
        "trusted": true
      },
      "outputs": [
        {
          "name": "stdout",
          "output_type": "stream",
          "text": [
            "Avatar\n",
            "Avatar\n",
            "\n",
            "\n",
            " find shapes of dataset  \n",
            " (4803, 4)\n",
            "(4803, 20)\n"
          ]
        }
      ],
      "source": [
        "#   try to find  column column based on the give dataset\n",
        "print(movie_credit.original_title[0])\n",
        "print(movie.title[0])\n",
        "\n",
        "# try to check shape of our dataset\n",
        "print('\\n\\n find shapes of dataset  \\n',movie.shape)\n",
        "print(movie_credit.shape)"
      ]
    },
    {
      "cell_type": "code",
      "execution_count": 16,
      "metadata": {
        "colab": {
          "base_uri": "https://localhost:8080/",
          "height": 335
        },
        "execution": {
          "iopub.execute_input": "2023-12-07T06:58:03.731968Z",
          "iopub.status.busy": "2023-12-07T06:58:03.731538Z",
          "iopub.status.idle": "2023-12-07T06:58:03.799633Z",
          "shell.execute_reply": "2023-12-07T06:58:03.798715Z",
          "shell.execute_reply.started": "2023-12-07T06:58:03.731930Z"
        },
        "id": "i_TI0QDlHa5A",
        "outputId": "de374e22-6165-4160-a8ec-d9c6aeaa57a8",
        "trusted": true
      },
      "outputs": [
        {
          "data": {
            "text/html": [
              "<div>\n",
              "<style scoped>\n",
              "    .dataframe tbody tr th:only-of-type {\n",
              "        vertical-align: middle;\n",
              "    }\n",
              "\n",
              "    .dataframe tbody tr th {\n",
              "        vertical-align: top;\n",
              "    }\n",
              "\n",
              "    .dataframe thead th {\n",
              "        text-align: right;\n",
              "    }\n",
              "</style>\n",
              "<table border=\"1\" class=\"dataframe\">\n",
              "  <thead>\n",
              "    <tr style=\"text-align: right;\">\n",
              "      <th></th>\n",
              "      <th>movie_id</th>\n",
              "      <th>title</th>\n",
              "      <th>cast</th>\n",
              "      <th>crew</th>\n",
              "      <th>budget</th>\n",
              "      <th>genres</th>\n",
              "      <th>homepage</th>\n",
              "      <th>id</th>\n",
              "      <th>keywords</th>\n",
              "      <th>original_language</th>\n",
              "      <th>...</th>\n",
              "      <th>production_companies</th>\n",
              "      <th>production_countries</th>\n",
              "      <th>release_date</th>\n",
              "      <th>revenue</th>\n",
              "      <th>runtime</th>\n",
              "      <th>spoken_languages</th>\n",
              "      <th>status</th>\n",
              "      <th>tagline</th>\n",
              "      <th>vote_average</th>\n",
              "      <th>vote_count</th>\n",
              "    </tr>\n",
              "  </thead>\n",
              "  <tbody>\n",
              "    <tr>\n",
              "      <th>0</th>\n",
              "      <td>19995</td>\n",
              "      <td>Avatar</td>\n",
              "      <td>[{\"cast_id\": 242, \"character\": \"Jake Sully\", \"...</td>\n",
              "      <td>[{\"credit_id\": \"52fe48009251416c750aca23\", \"de...</td>\n",
              "      <td>237000000</td>\n",
              "      <td>[{\"id\": 28, \"name\": \"Action\"}, {\"id\": 12, \"nam...</td>\n",
              "      <td>http://www.avatarmovie.com/</td>\n",
              "      <td>19995</td>\n",
              "      <td>[{\"id\": 1463, \"name\": \"culture clash\"}, {\"id\":...</td>\n",
              "      <td>en</td>\n",
              "      <td>...</td>\n",
              "      <td>[{\"name\": \"Ingenious Film Partners\", \"id\": 289...</td>\n",
              "      <td>[{\"iso_3166_1\": \"US\", \"name\": \"United States o...</td>\n",
              "      <td>2009-12-10</td>\n",
              "      <td>2787965087</td>\n",
              "      <td>162.0</td>\n",
              "      <td>[{\"iso_639_1\": \"en\", \"name\": \"English\"}, {\"iso...</td>\n",
              "      <td>Released</td>\n",
              "      <td>Enter the World of Pandora.</td>\n",
              "      <td>7.2</td>\n",
              "      <td>11800</td>\n",
              "    </tr>\n",
              "    <tr>\n",
              "      <th>1</th>\n",
              "      <td>285</td>\n",
              "      <td>Pirates of the Caribbean: At World's End</td>\n",
              "      <td>[{\"cast_id\": 4, \"character\": \"Captain Jack Spa...</td>\n",
              "      <td>[{\"credit_id\": \"52fe4232c3a36847f800b579\", \"de...</td>\n",
              "      <td>300000000</td>\n",
              "      <td>[{\"id\": 12, \"name\": \"Adventure\"}, {\"id\": 14, \"...</td>\n",
              "      <td>http://disney.go.com/disneypictures/pirates/</td>\n",
              "      <td>285</td>\n",
              "      <td>[{\"id\": 270, \"name\": \"ocean\"}, {\"id\": 726, \"na...</td>\n",
              "      <td>en</td>\n",
              "      <td>...</td>\n",
              "      <td>[{\"name\": \"Walt Disney Pictures\", \"id\": 2}, {\"...</td>\n",
              "      <td>[{\"iso_3166_1\": \"US\", \"name\": \"United States o...</td>\n",
              "      <td>2007-05-19</td>\n",
              "      <td>961000000</td>\n",
              "      <td>169.0</td>\n",
              "      <td>[{\"iso_639_1\": \"en\", \"name\": \"English\"}]</td>\n",
              "      <td>Released</td>\n",
              "      <td>At the end of the world, the adventure begins.</td>\n",
              "      <td>6.9</td>\n",
              "      <td>4500</td>\n",
              "    </tr>\n",
              "  </tbody>\n",
              "</table>\n",
              "<p>2 rows × 23 columns</p>\n",
              "</div>"
            ],
            "text/plain": [
              "   movie_id                                     title  \\\n",
              "0     19995                                    Avatar   \n",
              "1       285  Pirates of the Caribbean: At World's End   \n",
              "\n",
              "                                                cast  \\\n",
              "0  [{\"cast_id\": 242, \"character\": \"Jake Sully\", \"...   \n",
              "1  [{\"cast_id\": 4, \"character\": \"Captain Jack Spa...   \n",
              "\n",
              "                                                crew     budget  \\\n",
              "0  [{\"credit_id\": \"52fe48009251416c750aca23\", \"de...  237000000   \n",
              "1  [{\"credit_id\": \"52fe4232c3a36847f800b579\", \"de...  300000000   \n",
              "\n",
              "                                              genres  \\\n",
              "0  [{\"id\": 28, \"name\": \"Action\"}, {\"id\": 12, \"nam...   \n",
              "1  [{\"id\": 12, \"name\": \"Adventure\"}, {\"id\": 14, \"...   \n",
              "\n",
              "                                       homepage     id  \\\n",
              "0                   http://www.avatarmovie.com/  19995   \n",
              "1  http://disney.go.com/disneypictures/pirates/    285   \n",
              "\n",
              "                                            keywords original_language  ...  \\\n",
              "0  [{\"id\": 1463, \"name\": \"culture clash\"}, {\"id\":...                en  ...   \n",
              "1  [{\"id\": 270, \"name\": \"ocean\"}, {\"id\": 726, \"na...                en  ...   \n",
              "\n",
              "                                production_companies  \\\n",
              "0  [{\"name\": \"Ingenious Film Partners\", \"id\": 289...   \n",
              "1  [{\"name\": \"Walt Disney Pictures\", \"id\": 2}, {\"...   \n",
              "\n",
              "                                production_countries  release_date  \\\n",
              "0  [{\"iso_3166_1\": \"US\", \"name\": \"United States o...    2009-12-10   \n",
              "1  [{\"iso_3166_1\": \"US\", \"name\": \"United States o...    2007-05-19   \n",
              "\n",
              "      revenue runtime                                   spoken_languages  \\\n",
              "0  2787965087   162.0  [{\"iso_639_1\": \"en\", \"name\": \"English\"}, {\"iso...   \n",
              "1   961000000   169.0           [{\"iso_639_1\": \"en\", \"name\": \"English\"}]   \n",
              "\n",
              "     status                                         tagline vote_average  \\\n",
              "0  Released                     Enter the World of Pandora.          7.2   \n",
              "1  Released  At the end of the world, the adventure begins.          6.9   \n",
              "\n",
              "  vote_count  \n",
              "0      11800  \n",
              "1       4500  \n",
              "\n",
              "[2 rows x 23 columns]"
            ]
          },
          "execution_count": 16,
          "metadata": {},
          "output_type": "execute_result"
        }
      ],
      "source": [
        "#merge dataset to each other base on the  title  feature\n",
        "\n",
        "movie_rating=movie.merge(movie_credit,on='title')\n",
        "movie_rating.head(2)"
      ]
    },
    {
      "cell_type": "code",
      "execution_count": 17,
      "metadata": {
        "colab": {
          "base_uri": "https://localhost:8080/"
        },
        "execution": {
          "iopub.execute_input": "2023-12-07T06:58:03.802013Z",
          "iopub.status.busy": "2023-12-07T06:58:03.800890Z",
          "iopub.status.idle": "2023-12-07T06:58:03.823125Z",
          "shell.execute_reply": "2023-12-07T06:58:03.821497Z",
          "shell.execute_reply.started": "2023-12-07T06:58:03.801975Z"
        },
        "id": "2s_Rzc7wHa5A",
        "outputId": "0e750436-3aab-4c2c-e211-98a2baaef6b1",
        "trusted": true
      },
      "outputs": [
        {
          "data": {
            "text/plain": [
              "movie_id                   0\n",
              "title                      0\n",
              "cast                       0\n",
              "crew                       0\n",
              "budget                     0\n",
              "genres                     0\n",
              "homepage                3096\n",
              "id                         0\n",
              "keywords                   0\n",
              "original_language          0\n",
              "original_title             0\n",
              "overview                   3\n",
              "popularity                 0\n",
              "production_companies       0\n",
              "production_countries       0\n",
              "release_date               1\n",
              "revenue                    0\n",
              "runtime                    2\n",
              "spoken_languages           0\n",
              "status                     0\n",
              "tagline                  844\n",
              "vote_average               0\n",
              "vote_count                 0\n",
              "dtype: int64"
            ]
          },
          "execution_count": 17,
          "metadata": {},
          "output_type": "execute_result"
        }
      ],
      "source": [
        "# now check out main or needed feature and  give for ralated and aslo provide information about dataset\n",
        "\n",
        "# movie_rating.columns\n",
        "movie_rating.isnull().sum()\n",
        "\n",
        "# out imp features selecting  genres,id,keyword ,original_title,overview"
      ]
    },
    {
      "cell_type": "code",
      "execution_count": 18,
      "metadata": {
        "execution": {
          "iopub.execute_input": "2023-12-07T06:58:03.826394Z",
          "iopub.status.busy": "2023-12-07T06:58:03.825605Z",
          "iopub.status.idle": "2023-12-07T06:58:03.831862Z",
          "shell.execute_reply": "2023-12-07T06:58:03.830597Z",
          "shell.execute_reply.started": "2023-12-07T06:58:03.826344Z"
        },
        "id": "A74X9XKUHa5A",
        "trusted": true
      },
      "outputs": [],
      "source": [
        "# movie_rating['id']=movie_rating['id'].astype(str)"
      ]
    },
    {
      "cell_type": "code",
      "execution_count": 19,
      "metadata": {
        "execution": {
          "iopub.execute_input": "2023-12-07T06:58:03.839167Z",
          "iopub.status.busy": "2023-12-07T06:58:03.838292Z",
          "iopub.status.idle": "2023-12-07T06:58:03.848114Z",
          "shell.execute_reply": "2023-12-07T06:58:03.847033Z",
          "shell.execute_reply.started": "2023-12-07T06:58:03.839118Z"
        },
        "id": "FBOyJLd0Ha5A",
        "trusted": true
      },
      "outputs": [],
      "source": [
        "#genres,id,keyword,title,overview,tagline,cast,crew\n",
        "# movie_rating=movie_rating['genres']+movie_rating['id']+movie_rating['keywords']+movie_rating['overview']+movie_rating['title']+movie_rating['cast']+movie_rating['crew']\n",
        "movie_rating =  movie_rating[['genres','id','keywords','overview','title','cast','crew']]\n"
      ]
    },
    {
      "cell_type": "code",
      "execution_count": 20,
      "metadata": {
        "colab": {
          "base_uri": "https://localhost:8080/",
          "height": 147
        },
        "execution": {
          "iopub.execute_input": "2023-12-07T06:58:03.850464Z",
          "iopub.status.busy": "2023-12-07T06:58:03.849775Z",
          "iopub.status.idle": "2023-12-07T06:58:03.869672Z",
          "shell.execute_reply": "2023-12-07T06:58:03.868513Z",
          "shell.execute_reply.started": "2023-12-07T06:58:03.850427Z"
        },
        "id": "87GZYxkBHa5B",
        "outputId": "e6914e7c-97fb-4ba4-88b1-53e50d0b2e68",
        "trusted": true
      },
      "outputs": [
        {
          "data": {
            "text/html": [
              "<div>\n",
              "<style scoped>\n",
              "    .dataframe tbody tr th:only-of-type {\n",
              "        vertical-align: middle;\n",
              "    }\n",
              "\n",
              "    .dataframe tbody tr th {\n",
              "        vertical-align: top;\n",
              "    }\n",
              "\n",
              "    .dataframe thead th {\n",
              "        text-align: right;\n",
              "    }\n",
              "</style>\n",
              "<table border=\"1\" class=\"dataframe\">\n",
              "  <thead>\n",
              "    <tr style=\"text-align: right;\">\n",
              "      <th></th>\n",
              "      <th>genres</th>\n",
              "      <th>id</th>\n",
              "      <th>keywords</th>\n",
              "      <th>overview</th>\n",
              "      <th>title</th>\n",
              "      <th>cast</th>\n",
              "      <th>crew</th>\n",
              "    </tr>\n",
              "  </thead>\n",
              "  <tbody>\n",
              "    <tr>\n",
              "      <th>0</th>\n",
              "      <td>[{\"id\": 28, \"name\": \"Action\"}, {\"id\": 12, \"nam...</td>\n",
              "      <td>19995</td>\n",
              "      <td>[{\"id\": 1463, \"name\": \"culture clash\"}, {\"id\":...</td>\n",
              "      <td>In the 22nd century, a paraplegic Marine is di...</td>\n",
              "      <td>Avatar</td>\n",
              "      <td>[{\"cast_id\": 242, \"character\": \"Jake Sully\", \"...</td>\n",
              "      <td>[{\"credit_id\": \"52fe48009251416c750aca23\", \"de...</td>\n",
              "    </tr>\n",
              "    <tr>\n",
              "      <th>1</th>\n",
              "      <td>[{\"id\": 12, \"name\": \"Adventure\"}, {\"id\": 14, \"...</td>\n",
              "      <td>285</td>\n",
              "      <td>[{\"id\": 270, \"name\": \"ocean\"}, {\"id\": 726, \"na...</td>\n",
              "      <td>Captain Barbossa, long believed to be dead, ha...</td>\n",
              "      <td>Pirates of the Caribbean: At World's End</td>\n",
              "      <td>[{\"cast_id\": 4, \"character\": \"Captain Jack Spa...</td>\n",
              "      <td>[{\"credit_id\": \"52fe4232c3a36847f800b579\", \"de...</td>\n",
              "    </tr>\n",
              "  </tbody>\n",
              "</table>\n",
              "</div>"
            ],
            "text/plain": [
              "                                              genres     id  \\\n",
              "0  [{\"id\": 28, \"name\": \"Action\"}, {\"id\": 12, \"nam...  19995   \n",
              "1  [{\"id\": 12, \"name\": \"Adventure\"}, {\"id\": 14, \"...    285   \n",
              "\n",
              "                                            keywords  \\\n",
              "0  [{\"id\": 1463, \"name\": \"culture clash\"}, {\"id\":...   \n",
              "1  [{\"id\": 270, \"name\": \"ocean\"}, {\"id\": 726, \"na...   \n",
              "\n",
              "                                            overview  \\\n",
              "0  In the 22nd century, a paraplegic Marine is di...   \n",
              "1  Captain Barbossa, long believed to be dead, ha...   \n",
              "\n",
              "                                      title  \\\n",
              "0                                    Avatar   \n",
              "1  Pirates of the Caribbean: At World's End   \n",
              "\n",
              "                                                cast  \\\n",
              "0  [{\"cast_id\": 242, \"character\": \"Jake Sully\", \"...   \n",
              "1  [{\"cast_id\": 4, \"character\": \"Captain Jack Spa...   \n",
              "\n",
              "                                                crew  \n",
              "0  [{\"credit_id\": \"52fe48009251416c750aca23\", \"de...  \n",
              "1  [{\"credit_id\": \"52fe4232c3a36847f800b579\", \"de...  "
            ]
          },
          "execution_count": 20,
          "metadata": {},
          "output_type": "execute_result"
        }
      ],
      "source": [
        "movie_rating.head(2)"
      ]
    },
    {
      "cell_type": "code",
      "execution_count": 21,
      "metadata": {
        "colab": {
          "base_uri": "https://localhost:8080/",
          "height": 36
        },
        "execution": {
          "iopub.execute_input": "2023-12-07T06:58:03.871938Z",
          "iopub.status.busy": "2023-12-07T06:58:03.871245Z",
          "iopub.status.idle": "2023-12-07T06:58:03.883612Z",
          "shell.execute_reply": "2023-12-07T06:58:03.882552Z",
          "shell.execute_reply.started": "2023-12-07T06:58:03.871889Z"
        },
        "id": "XjJMxNXZHa5B",
        "outputId": "c6e9a005-a8c9-40ca-c77e-57a2c0c138d5",
        "trusted": true
      },
      "outputs": [
        {
          "data": {
            "text/plain": [
              "'[{\"id\": 28, \"name\": \"Action\"}, {\"id\": 12, \"name\": \"Adventure\"}, {\"id\": 14, \"name\": \"Fantasy\"}, {\"id\": 878, \"name\": \"Science Fiction\"}]'"
            ]
          },
          "execution_count": 21,
          "metadata": {},
          "output_type": "execute_result"
        }
      ],
      "source": [
        "#try to check out first column values\n",
        "# movie_rating.iloc[0].id\n",
        "movie_rating.iloc[0].genres"
      ]
    },
    {
      "cell_type": "code",
      "execution_count": 22,
      "metadata": {
        "execution": {
          "iopub.execute_input": "2023-12-07T06:58:03.885940Z",
          "iopub.status.busy": "2023-12-07T06:58:03.885205Z",
          "iopub.status.idle": "2023-12-07T06:58:03.894252Z",
          "shell.execute_reply": "2023-12-07T06:58:03.893183Z",
          "shell.execute_reply.started": "2023-12-07T06:58:03.885903Z"
        },
        "id": "QkS1VS6pHa5B",
        "trusted": true
      },
      "outputs": [],
      "source": [
        "import json\n",
        "def convert(item):\n",
        "    store=[]# create on list\n",
        "    for i in json.loads(item):\n",
        "        store.append(i['name']) # onlystoring name beacuse genres store\n",
        "    return store\n",
        "\n"
      ]
    },
    {
      "cell_type": "code",
      "execution_count": 23,
      "metadata": {
        "colab": {
          "base_uri": "https://localhost:8080/"
        },
        "execution": {
          "iopub.execute_input": "2023-12-07T06:58:03.896519Z",
          "iopub.status.busy": "2023-12-07T06:58:03.895852Z",
          "iopub.status.idle": "2023-12-07T06:58:03.907746Z",
          "shell.execute_reply": "2023-12-07T06:58:03.906501Z",
          "shell.execute_reply.started": "2023-12-07T06:58:03.896476Z"
        },
        "id": "PvFtJC-bHa5B",
        "outputId": "18e5a973-1db1-4bb8-ecba-d55989f202aa",
        "trusted": true
      },
      "outputs": [
        {
          "data": {
            "text/plain": [
              "[{'id': 28, 'name': 'Action'},\n",
              " {'id': 12, 'name': 'Adventure'},\n",
              " {'id': 14, 'name': 'Fantasy'},\n",
              " {'id': 878, 'name': 'Science Fiction'}]"
            ]
          },
          "execution_count": 23,
          "metadata": {},
          "output_type": "execute_result"
        }
      ],
      "source": [
        "# Convert the string to a list of dictionaries 1st way\n",
        "import ast\n",
        "ast.literal_eval('[{\"id\": 28, \"name\": \"Action\"}, {\"id\": 12, \"name\": \"Adventure\"}, {\"id\": 14, \"name\": \"Fantasy\"}, {\"id\": 878, \"name\": \"Science Fiction\"}]')\n",
        "\n",
        "\n",
        "# Convert the string to a list of dictionaries 2nd way\n",
        "# import json\n",
        "# json.loads('[{\"id\": 28, \"name\": \"Action\"}, {\"id\": 12, \"name\": \"Adventure\"}, {\"id\": 14, \"name\": \"Fantasy\"}, {\"id\": 878, \"name\": \"Science Fiction\"}]')"
      ]
    },
    {
      "cell_type": "code",
      "execution_count": 24,
      "metadata": {
        "execution": {
          "iopub.execute_input": "2023-12-07T06:58:03.910173Z",
          "iopub.status.busy": "2023-12-07T06:58:03.909507Z",
          "iopub.status.idle": "2023-12-07T06:58:04.020803Z",
          "shell.execute_reply": "2023-12-07T06:58:04.019728Z",
          "shell.execute_reply.started": "2023-12-07T06:58:03.910138Z"
        },
        "id": "mo16yNAGHa5B",
        "trusted": true
      },
      "outputs": [],
      "source": [
        "# genres feature convert  string to on list succesfully\n",
        "\n",
        "movie_rating['genres']=movie_rating['genres'].apply(convert)\n",
        "# keywords feature convert  string to on list succesfully\n",
        "movie_rating['keywords']=movie_rating['keywords'].apply(convert)\n",
        "\n"
      ]
    },
    {
      "cell_type": "code",
      "execution_count": 25,
      "metadata": {
        "execution": {
          "iopub.execute_input": "2023-12-07T06:58:04.023027Z",
          "iopub.status.busy": "2023-12-07T06:58:04.022352Z",
          "iopub.status.idle": "2023-12-07T06:58:04.028921Z",
          "shell.execute_reply": "2023-12-07T06:58:04.027744Z",
          "shell.execute_reply.started": "2023-12-07T06:58:04.022975Z"
        },
        "id": "Kz5TUZ4vHa5B",
        "trusted": true
      },
      "outputs": [],
      "source": [
        "# find only top three actores in thw cast feature\n",
        "\n",
        "def  top3actors(act):\n",
        "    act_list=[]\n",
        "    for i in json.loads(cast):\n",
        "        for j in j ==2:\n",
        "            act_list(j[name])\n",
        "        break\n",
        "    return act_list"
      ]
    },
    {
      "cell_type": "code",
      "execution_count": 26,
      "metadata": {
        "execution": {
          "iopub.execute_input": "2023-12-07T06:58:04.031630Z",
          "iopub.status.busy": "2023-12-07T06:58:04.031167Z",
          "iopub.status.idle": "2023-12-07T06:58:04.416262Z",
          "shell.execute_reply": "2023-12-07T06:58:04.415284Z",
          "shell.execute_reply.started": "2023-12-07T06:58:04.031594Z"
        },
        "id": "2i1UFvnQHa5C",
        "trusted": true
      },
      "outputs": [],
      "source": [
        "# cast feature convert  string to on list succesfully\n",
        "movie_rating['cast']=movie_rating['cast'].apply(convert)"
      ]
    },
    {
      "cell_type": "code",
      "execution_count": 27,
      "metadata": {
        "execution": {
          "iopub.execute_input": "2023-12-07T06:58:04.418651Z",
          "iopub.status.busy": "2023-12-07T06:58:04.417720Z",
          "iopub.status.idle": "2023-12-07T06:58:04.424523Z",
          "shell.execute_reply": "2023-12-07T06:58:04.423464Z",
          "shell.execute_reply.started": "2023-12-07T06:58:04.418612Z"
        },
        "id": "hGa0GvqHHa5C",
        "trusted": true
      },
      "outputs": [],
      "source": [
        "def find_director(direct):\n",
        "    find_d=[]\n",
        "    for i in json.loads(direct):\n",
        "        if i['job']== 'Director':\n",
        "            find_d.append(i['name'])\n",
        "            break\n",
        "    return find_d"
      ]
    },
    {
      "cell_type": "code",
      "execution_count": 28,
      "metadata": {
        "execution": {
          "iopub.execute_input": "2023-12-07T06:58:04.427109Z",
          "iopub.status.busy": "2023-12-07T06:58:04.426379Z",
          "iopub.status.idle": "2023-12-07T06:58:04.800498Z",
          "shell.execute_reply": "2023-12-07T06:58:04.798728Z",
          "shell.execute_reply.started": "2023-12-07T06:58:04.427050Z"
        },
        "id": "axFXVK7CHa5C",
        "trusted": true
      },
      "outputs": [],
      "source": [
        "# Apply the function to the 'crew' column\n",
        "movie_rating['crew']=movie_rating['crew'].apply(find_director)\n",
        "\n"
      ]
    },
    {
      "cell_type": "code",
      "execution_count": 29,
      "metadata": {
        "colab": {
          "base_uri": "https://localhost:8080/",
          "height": 147
        },
        "execution": {
          "iopub.execute_input": "2023-12-07T06:58:04.802443Z",
          "iopub.status.busy": "2023-12-07T06:58:04.802023Z",
          "iopub.status.idle": "2023-12-07T06:58:04.823471Z",
          "shell.execute_reply": "2023-12-07T06:58:04.822027Z",
          "shell.execute_reply.started": "2023-12-07T06:58:04.802406Z"
        },
        "id": "CTx1TQqeHa5C",
        "outputId": "c106742c-5784-4cfb-fe5f-0b099952c321",
        "trusted": true
      },
      "outputs": [
        {
          "data": {
            "text/html": [
              "<div>\n",
              "<style scoped>\n",
              "    .dataframe tbody tr th:only-of-type {\n",
              "        vertical-align: middle;\n",
              "    }\n",
              "\n",
              "    .dataframe tbody tr th {\n",
              "        vertical-align: top;\n",
              "    }\n",
              "\n",
              "    .dataframe thead th {\n",
              "        text-align: right;\n",
              "    }\n",
              "</style>\n",
              "<table border=\"1\" class=\"dataframe\">\n",
              "  <thead>\n",
              "    <tr style=\"text-align: right;\">\n",
              "      <th></th>\n",
              "      <th>genres</th>\n",
              "      <th>id</th>\n",
              "      <th>keywords</th>\n",
              "      <th>overview</th>\n",
              "      <th>title</th>\n",
              "      <th>cast</th>\n",
              "      <th>crew</th>\n",
              "    </tr>\n",
              "  </thead>\n",
              "  <tbody>\n",
              "    <tr>\n",
              "      <th>0</th>\n",
              "      <td>[Action, Adventure, Fantasy, Science Fiction]</td>\n",
              "      <td>19995</td>\n",
              "      <td>[culture clash, future, space war, space colon...</td>\n",
              "      <td>In the 22nd century, a paraplegic Marine is di...</td>\n",
              "      <td>Avatar</td>\n",
              "      <td>[Sam Worthington, Zoe Saldana, Sigourney Weave...</td>\n",
              "      <td>[James Cameron]</td>\n",
              "    </tr>\n",
              "    <tr>\n",
              "      <th>1</th>\n",
              "      <td>[Adventure, Fantasy, Action]</td>\n",
              "      <td>285</td>\n",
              "      <td>[ocean, drug abuse, exotic island, east india ...</td>\n",
              "      <td>Captain Barbossa, long believed to be dead, ha...</td>\n",
              "      <td>Pirates of the Caribbean: At World's End</td>\n",
              "      <td>[Johnny Depp, Orlando Bloom, Keira Knightley, ...</td>\n",
              "      <td>[Gore Verbinski]</td>\n",
              "    </tr>\n",
              "  </tbody>\n",
              "</table>\n",
              "</div>"
            ],
            "text/plain": [
              "                                          genres     id  \\\n",
              "0  [Action, Adventure, Fantasy, Science Fiction]  19995   \n",
              "1                   [Adventure, Fantasy, Action]    285   \n",
              "\n",
              "                                            keywords  \\\n",
              "0  [culture clash, future, space war, space colon...   \n",
              "1  [ocean, drug abuse, exotic island, east india ...   \n",
              "\n",
              "                                            overview  \\\n",
              "0  In the 22nd century, a paraplegic Marine is di...   \n",
              "1  Captain Barbossa, long believed to be dead, ha...   \n",
              "\n",
              "                                      title  \\\n",
              "0                                    Avatar   \n",
              "1  Pirates of the Caribbean: At World's End   \n",
              "\n",
              "                                                cast              crew  \n",
              "0  [Sam Worthington, Zoe Saldana, Sigourney Weave...   [James Cameron]  \n",
              "1  [Johnny Depp, Orlando Bloom, Keira Knightley, ...  [Gore Verbinski]  "
            ]
          },
          "execution_count": 29,
          "metadata": {},
          "output_type": "execute_result"
        }
      ],
      "source": [
        "\n",
        "movie_rating.head(2)\n",
        "\n",
        "# movie_rating.drop(['directors'],axis=1) # delete column"
      ]
    },
    {
      "cell_type": "code",
      "execution_count": 30,
      "metadata": {
        "execution": {
          "iopub.execute_input": "2023-12-07T06:58:04.825788Z",
          "iopub.status.busy": "2023-12-07T06:58:04.825370Z",
          "iopub.status.idle": "2023-12-07T06:58:04.883861Z",
          "shell.execute_reply": "2023-12-07T06:58:04.882390Z",
          "shell.execute_reply.started": "2023-12-07T06:58:04.825755Z"
        },
        "id": "vHRCyVe3Ha5C",
        "trusted": true
      },
      "outputs": [],
      "source": [
        "# need to  overview convert into the  list  for that use lamda function\n",
        "\n",
        "# movie_rating['overview'].apply(lambda x: list(x))\n",
        "# movie_rating['overview']=movie_rating['overview'].apply(lambda x:x.split())\n",
        "\n",
        "import pandas as pd\n",
        "\n",
        "# Assuming 'overview' column may have NaN values\n",
        "movie_rating['overview'] = movie_rating['overview'].apply(lambda x: x.split() if pd.notna(x) else [])\n",
        "\n"
      ]
    },
    {
      "cell_type": "code",
      "execution_count": 31,
      "metadata": {
        "colab": {
          "base_uri": "https://localhost:8080/",
          "height": 147
        },
        "execution": {
          "iopub.execute_input": "2023-12-07T06:58:04.886241Z",
          "iopub.status.busy": "2023-12-07T06:58:04.885823Z",
          "iopub.status.idle": "2023-12-07T06:58:04.908201Z",
          "shell.execute_reply": "2023-12-07T06:58:04.906974Z",
          "shell.execute_reply.started": "2023-12-07T06:58:04.886204Z"
        },
        "id": "Rhq1BGBDHa5C",
        "outputId": "830baa28-d158-4bf1-a5ca-4c25c59fc775",
        "trusted": true
      },
      "outputs": [
        {
          "data": {
            "text/html": [
              "<div>\n",
              "<style scoped>\n",
              "    .dataframe tbody tr th:only-of-type {\n",
              "        vertical-align: middle;\n",
              "    }\n",
              "\n",
              "    .dataframe tbody tr th {\n",
              "        vertical-align: top;\n",
              "    }\n",
              "\n",
              "    .dataframe thead th {\n",
              "        text-align: right;\n",
              "    }\n",
              "</style>\n",
              "<table border=\"1\" class=\"dataframe\">\n",
              "  <thead>\n",
              "    <tr style=\"text-align: right;\">\n",
              "      <th></th>\n",
              "      <th>genres</th>\n",
              "      <th>id</th>\n",
              "      <th>keywords</th>\n",
              "      <th>overview</th>\n",
              "      <th>title</th>\n",
              "      <th>cast</th>\n",
              "      <th>crew</th>\n",
              "    </tr>\n",
              "  </thead>\n",
              "  <tbody>\n",
              "    <tr>\n",
              "      <th>0</th>\n",
              "      <td>[Action, Adventure, Fantasy, Science Fiction]</td>\n",
              "      <td>19995</td>\n",
              "      <td>[culture clash, future, space war, space colon...</td>\n",
              "      <td>[In, the, 22nd, century,, a, paraplegic, Marin...</td>\n",
              "      <td>Avatar</td>\n",
              "      <td>[Sam Worthington, Zoe Saldana, Sigourney Weave...</td>\n",
              "      <td>[James Cameron]</td>\n",
              "    </tr>\n",
              "    <tr>\n",
              "      <th>1</th>\n",
              "      <td>[Adventure, Fantasy, Action]</td>\n",
              "      <td>285</td>\n",
              "      <td>[ocean, drug abuse, exotic island, east india ...</td>\n",
              "      <td>[Captain, Barbossa,, long, believed, to, be, d...</td>\n",
              "      <td>Pirates of the Caribbean: At World's End</td>\n",
              "      <td>[Johnny Depp, Orlando Bloom, Keira Knightley, ...</td>\n",
              "      <td>[Gore Verbinski]</td>\n",
              "    </tr>\n",
              "  </tbody>\n",
              "</table>\n",
              "</div>"
            ],
            "text/plain": [
              "                                          genres     id  \\\n",
              "0  [Action, Adventure, Fantasy, Science Fiction]  19995   \n",
              "1                   [Adventure, Fantasy, Action]    285   \n",
              "\n",
              "                                            keywords  \\\n",
              "0  [culture clash, future, space war, space colon...   \n",
              "1  [ocean, drug abuse, exotic island, east india ...   \n",
              "\n",
              "                                            overview  \\\n",
              "0  [In, the, 22nd, century,, a, paraplegic, Marin...   \n",
              "1  [Captain, Barbossa,, long, believed, to, be, d...   \n",
              "\n",
              "                                      title  \\\n",
              "0                                    Avatar   \n",
              "1  Pirates of the Caribbean: At World's End   \n",
              "\n",
              "                                                cast              crew  \n",
              "0  [Sam Worthington, Zoe Saldana, Sigourney Weave...   [James Cameron]  \n",
              "1  [Johnny Depp, Orlando Bloom, Keira Knightley, ...  [Gore Verbinski]  "
            ]
          },
          "execution_count": 31,
          "metadata": {},
          "output_type": "execute_result"
        }
      ],
      "source": [
        "movie_rating.head(2)"
      ]
    },
    {
      "cell_type": "code",
      "execution_count": 32,
      "metadata": {
        "execution": {
          "iopub.execute_input": "2023-12-07T06:58:04.910819Z",
          "iopub.status.busy": "2023-12-07T06:58:04.909900Z",
          "iopub.status.idle": "2023-12-07T06:58:04.925114Z",
          "shell.execute_reply": "2023-12-07T06:58:04.923633Z",
          "shell.execute_reply.started": "2023-12-07T06:58:04.910780Z"
        },
        "id": "D3XDviBmHa5C",
        "trusted": true
      },
      "outputs": [],
      "source": [
        "\n",
        "# remove whitespace betweent text for better machine learning\n",
        "movie_rating['genres']=movie_rating['genres'].apply(lambda x:[i.replace(' ','') for i in x])"
      ]
    },
    {
      "cell_type": "code",
      "execution_count": 33,
      "metadata": {
        "execution": {
          "iopub.execute_input": "2023-12-07T06:58:04.927262Z",
          "iopub.status.busy": "2023-12-07T06:58:04.926891Z",
          "iopub.status.idle": "2023-12-07T06:58:05.178934Z",
          "shell.execute_reply": "2023-12-07T06:58:05.177804Z",
          "shell.execute_reply.started": "2023-12-07T06:58:04.927228Z"
        },
        "id": "gBQ2RtylHa5C",
        "trusted": true
      },
      "outputs": [],
      "source": [
        "movie_rating['keywords']=movie_rating['keywords'].apply(lambda x:[i.replace(\" \",\"\") for i in x])\n",
        "movie_rating['overview']=movie_rating['overview'].apply(lambda x:[x.replace(\" \",\"\")for x in x])\n",
        "movie_rating['cast']=movie_rating['cast'].apply(lambda x:[x.replace(\" \",\"\") for x in x])\n",
        "\n"
      ]
    },
    {
      "cell_type": "code",
      "execution_count": 34,
      "metadata": {
        "colab": {
          "base_uri": "https://localhost:8080/",
          "height": 147
        },
        "execution": {
          "iopub.execute_input": "2023-12-07T06:58:05.180751Z",
          "iopub.status.busy": "2023-12-07T06:58:05.180396Z",
          "iopub.status.idle": "2023-12-07T06:58:05.203369Z",
          "shell.execute_reply": "2023-12-07T06:58:05.201977Z",
          "shell.execute_reply.started": "2023-12-07T06:58:05.180719Z"
        },
        "id": "TIfE9KhlHa5C",
        "outputId": "e3f8db53-0ff4-45f1-811a-89c1799208f1",
        "trusted": true
      },
      "outputs": [
        {
          "data": {
            "text/html": [
              "<div>\n",
              "<style scoped>\n",
              "    .dataframe tbody tr th:only-of-type {\n",
              "        vertical-align: middle;\n",
              "    }\n",
              "\n",
              "    .dataframe tbody tr th {\n",
              "        vertical-align: top;\n",
              "    }\n",
              "\n",
              "    .dataframe thead th {\n",
              "        text-align: right;\n",
              "    }\n",
              "</style>\n",
              "<table border=\"1\" class=\"dataframe\">\n",
              "  <thead>\n",
              "    <tr style=\"text-align: right;\">\n",
              "      <th></th>\n",
              "      <th>genres</th>\n",
              "      <th>id</th>\n",
              "      <th>keywords</th>\n",
              "      <th>overview</th>\n",
              "      <th>title</th>\n",
              "      <th>cast</th>\n",
              "      <th>crew</th>\n",
              "    </tr>\n",
              "  </thead>\n",
              "  <tbody>\n",
              "    <tr>\n",
              "      <th>0</th>\n",
              "      <td>[Action, Adventure, Fantasy, ScienceFiction]</td>\n",
              "      <td>19995</td>\n",
              "      <td>[cultureclash, future, spacewar, spacecolony, ...</td>\n",
              "      <td>[In, the, 22nd, century,, a, paraplegic, Marin...</td>\n",
              "      <td>Avatar</td>\n",
              "      <td>[SamWorthington, ZoeSaldana, SigourneyWeaver, ...</td>\n",
              "      <td>[James Cameron]</td>\n",
              "    </tr>\n",
              "    <tr>\n",
              "      <th>1</th>\n",
              "      <td>[Adventure, Fantasy, Action]</td>\n",
              "      <td>285</td>\n",
              "      <td>[ocean, drugabuse, exoticisland, eastindiatrad...</td>\n",
              "      <td>[Captain, Barbossa,, long, believed, to, be, d...</td>\n",
              "      <td>Pirates of the Caribbean: At World's End</td>\n",
              "      <td>[JohnnyDepp, OrlandoBloom, KeiraKnightley, Ste...</td>\n",
              "      <td>[Gore Verbinski]</td>\n",
              "    </tr>\n",
              "  </tbody>\n",
              "</table>\n",
              "</div>"
            ],
            "text/plain": [
              "                                         genres     id  \\\n",
              "0  [Action, Adventure, Fantasy, ScienceFiction]  19995   \n",
              "1                  [Adventure, Fantasy, Action]    285   \n",
              "\n",
              "                                            keywords  \\\n",
              "0  [cultureclash, future, spacewar, spacecolony, ...   \n",
              "1  [ocean, drugabuse, exoticisland, eastindiatrad...   \n",
              "\n",
              "                                            overview  \\\n",
              "0  [In, the, 22nd, century,, a, paraplegic, Marin...   \n",
              "1  [Captain, Barbossa,, long, believed, to, be, d...   \n",
              "\n",
              "                                      title  \\\n",
              "0                                    Avatar   \n",
              "1  Pirates of the Caribbean: At World's End   \n",
              "\n",
              "                                                cast              crew  \n",
              "0  [SamWorthington, ZoeSaldana, SigourneyWeaver, ...   [James Cameron]  \n",
              "1  [JohnnyDepp, OrlandoBloom, KeiraKnightley, Ste...  [Gore Verbinski]  "
            ]
          },
          "execution_count": 34,
          "metadata": {},
          "output_type": "execute_result"
        }
      ],
      "source": [
        "\n",
        "# movie_rating['title']=movie_rating['title'].apply(lambda x:list[x])\n",
        "\n",
        "movie_rating.head(2)"
      ]
    },
    {
      "cell_type": "code",
      "execution_count": 35,
      "metadata": {
        "execution": {
          "iopub.execute_input": "2023-12-07T06:58:05.205557Z",
          "iopub.status.busy": "2023-12-07T06:58:05.205066Z",
          "iopub.status.idle": "2023-12-07T06:58:05.299025Z",
          "shell.execute_reply": "2023-12-07T06:58:05.297959Z",
          "shell.execute_reply.started": "2023-12-07T06:58:05.205507Z"
        },
        "id": "LEHDZ1ZDHa5C",
        "trusted": true
      },
      "outputs": [],
      "source": [
        "# try to concanant  genres , keywords,overview,title,cast and crew columns\n",
        "\n",
        "# movie_rating=pd.DataFrame(movie_rating)\n",
        "\n",
        "movie_rating['tags']=movie_rating['genres']+movie_rating['keywords']+movie_rating['overview']+movie_rating['cast']+movie_rating['crew']\n",
        "movie_rating['tags']=movie_rating['tags'].apply(lambda x: \" \".join(x))\n",
        "# movie_rating['tags'] = (\n",
        "#     movie_rating['genres'].astype(str) + ' ' +\n",
        "#     movie_rating['keywords'].astype(str) + ' ' +\n",
        "#     movie_rating['overview'].astype(str) + ' ' +\n",
        "#     movie_rating['title'].astype(str) + ' ' +\n",
        "#     movie_rating['cast'].astype(str) + ' ' +\n",
        "#     movie_rating['crew'].astype(str)\n",
        "# )"
      ]
    },
    {
      "cell_type": "code",
      "execution_count": 36,
      "metadata": {
        "colab": {
          "base_uri": "https://localhost:8080/",
          "height": 147
        },
        "execution": {
          "iopub.execute_input": "2023-12-07T06:58:05.301362Z",
          "iopub.status.busy": "2023-12-07T06:58:05.300320Z",
          "iopub.status.idle": "2023-12-07T06:58:05.322664Z",
          "shell.execute_reply": "2023-12-07T06:58:05.321201Z",
          "shell.execute_reply.started": "2023-12-07T06:58:05.301322Z"
        },
        "id": "AX2uyejuHa5D",
        "outputId": "e2063839-2580-456a-cfc5-2d3cc1b3e1ee",
        "trusted": true
      },
      "outputs": [
        {
          "data": {
            "text/html": [
              "<div>\n",
              "<style scoped>\n",
              "    .dataframe tbody tr th:only-of-type {\n",
              "        vertical-align: middle;\n",
              "    }\n",
              "\n",
              "    .dataframe tbody tr th {\n",
              "        vertical-align: top;\n",
              "    }\n",
              "\n",
              "    .dataframe thead th {\n",
              "        text-align: right;\n",
              "    }\n",
              "</style>\n",
              "<table border=\"1\" class=\"dataframe\">\n",
              "  <thead>\n",
              "    <tr style=\"text-align: right;\">\n",
              "      <th></th>\n",
              "      <th>genres</th>\n",
              "      <th>id</th>\n",
              "      <th>keywords</th>\n",
              "      <th>overview</th>\n",
              "      <th>title</th>\n",
              "      <th>cast</th>\n",
              "      <th>crew</th>\n",
              "      <th>tags</th>\n",
              "    </tr>\n",
              "  </thead>\n",
              "  <tbody>\n",
              "    <tr>\n",
              "      <th>0</th>\n",
              "      <td>[Action, Adventure, Fantasy, ScienceFiction]</td>\n",
              "      <td>19995</td>\n",
              "      <td>[cultureclash, future, spacewar, spacecolony, ...</td>\n",
              "      <td>[In, the, 22nd, century,, a, paraplegic, Marin...</td>\n",
              "      <td>Avatar</td>\n",
              "      <td>[SamWorthington, ZoeSaldana, SigourneyWeaver, ...</td>\n",
              "      <td>[James Cameron]</td>\n",
              "      <td>Action Adventure Fantasy ScienceFiction cultur...</td>\n",
              "    </tr>\n",
              "    <tr>\n",
              "      <th>1</th>\n",
              "      <td>[Adventure, Fantasy, Action]</td>\n",
              "      <td>285</td>\n",
              "      <td>[ocean, drugabuse, exoticisland, eastindiatrad...</td>\n",
              "      <td>[Captain, Barbossa,, long, believed, to, be, d...</td>\n",
              "      <td>Pirates of the Caribbean: At World's End</td>\n",
              "      <td>[JohnnyDepp, OrlandoBloom, KeiraKnightley, Ste...</td>\n",
              "      <td>[Gore Verbinski]</td>\n",
              "      <td>Adventure Fantasy Action ocean drugabuse exoti...</td>\n",
              "    </tr>\n",
              "  </tbody>\n",
              "</table>\n",
              "</div>"
            ],
            "text/plain": [
              "                                         genres     id  \\\n",
              "0  [Action, Adventure, Fantasy, ScienceFiction]  19995   \n",
              "1                  [Adventure, Fantasy, Action]    285   \n",
              "\n",
              "                                            keywords  \\\n",
              "0  [cultureclash, future, spacewar, spacecolony, ...   \n",
              "1  [ocean, drugabuse, exoticisland, eastindiatrad...   \n",
              "\n",
              "                                            overview  \\\n",
              "0  [In, the, 22nd, century,, a, paraplegic, Marin...   \n",
              "1  [Captain, Barbossa,, long, believed, to, be, d...   \n",
              "\n",
              "                                      title  \\\n",
              "0                                    Avatar   \n",
              "1  Pirates of the Caribbean: At World's End   \n",
              "\n",
              "                                                cast              crew  \\\n",
              "0  [SamWorthington, ZoeSaldana, SigourneyWeaver, ...   [James Cameron]   \n",
              "1  [JohnnyDepp, OrlandoBloom, KeiraKnightley, Ste...  [Gore Verbinski]   \n",
              "\n",
              "                                                tags  \n",
              "0  Action Adventure Fantasy ScienceFiction cultur...  \n",
              "1  Adventure Fantasy Action ocean drugabuse exoti...  "
            ]
          },
          "execution_count": 36,
          "metadata": {},
          "output_type": "execute_result"
        }
      ],
      "source": [
        "movie_rating.head(2)"
      ]
    },
    {
      "cell_type": "code",
      "execution_count": 37,
      "metadata": {
        "colab": {
          "base_uri": "https://localhost:8080/",
          "height": 261
        },
        "execution": {
          "iopub.execute_input": "2023-12-07T06:58:05.330280Z",
          "iopub.status.busy": "2023-12-07T06:58:05.329844Z",
          "iopub.status.idle": "2023-12-07T06:58:05.346941Z",
          "shell.execute_reply": "2023-12-07T06:58:05.345725Z",
          "shell.execute_reply.started": "2023-12-07T06:58:05.330244Z"
        },
        "id": "0jSn3rPnHa5D",
        "outputId": "3741f2c3-6c73-4405-a6b0-76e328475ccc",
        "trusted": true
      },
      "outputs": [
        {
          "name": "stdout",
          "output_type": "stream",
          "text": [
            "\n",
            " final dataset \n",
            " \n"
          ]
        },
        {
          "data": {
            "text/html": [
              "<div>\n",
              "<style scoped>\n",
              "    .dataframe tbody tr th:only-of-type {\n",
              "        vertical-align: middle;\n",
              "    }\n",
              "\n",
              "    .dataframe tbody tr th {\n",
              "        vertical-align: top;\n",
              "    }\n",
              "\n",
              "    .dataframe thead th {\n",
              "        text-align: right;\n",
              "    }\n",
              "</style>\n",
              "<table border=\"1\" class=\"dataframe\">\n",
              "  <thead>\n",
              "    <tr style=\"text-align: right;\">\n",
              "      <th></th>\n",
              "      <th>id</th>\n",
              "      <th>title</th>\n",
              "      <th>tags</th>\n",
              "    </tr>\n",
              "  </thead>\n",
              "  <tbody>\n",
              "    <tr>\n",
              "      <th>0</th>\n",
              "      <td>19995</td>\n",
              "      <td>Avatar</td>\n",
              "      <td>Action Adventure Fantasy ScienceFiction cultur...</td>\n",
              "    </tr>\n",
              "    <tr>\n",
              "      <th>1</th>\n",
              "      <td>285</td>\n",
              "      <td>Pirates of the Caribbean: At World's End</td>\n",
              "      <td>Adventure Fantasy Action ocean drugabuse exoti...</td>\n",
              "    </tr>\n",
              "    <tr>\n",
              "      <th>2</th>\n",
              "      <td>206647</td>\n",
              "      <td>Spectre</td>\n",
              "      <td>Action Adventure Crime spy basedonnovel secret...</td>\n",
              "    </tr>\n",
              "    <tr>\n",
              "      <th>3</th>\n",
              "      <td>49026</td>\n",
              "      <td>The Dark Knight Rises</td>\n",
              "      <td>Action Crime Drama Thriller dccomics crimefigh...</td>\n",
              "    </tr>\n",
              "    <tr>\n",
              "      <th>4</th>\n",
              "      <td>49529</td>\n",
              "      <td>John Carter</td>\n",
              "      <td>Action Adventure ScienceFiction basedonnovel m...</td>\n",
              "    </tr>\n",
              "  </tbody>\n",
              "</table>\n",
              "</div>"
            ],
            "text/plain": [
              "       id                                     title  \\\n",
              "0   19995                                    Avatar   \n",
              "1     285  Pirates of the Caribbean: At World's End   \n",
              "2  206647                                   Spectre   \n",
              "3   49026                     The Dark Knight Rises   \n",
              "4   49529                               John Carter   \n",
              "\n",
              "                                                tags  \n",
              "0  Action Adventure Fantasy ScienceFiction cultur...  \n",
              "1  Adventure Fantasy Action ocean drugabuse exoti...  \n",
              "2  Action Adventure Crime spy basedonnovel secret...  \n",
              "3  Action Crime Drama Thriller dccomics crimefigh...  \n",
              "4  Action Adventure ScienceFiction basedonnovel m...  "
            ]
          },
          "execution_count": 37,
          "metadata": {},
          "output_type": "execute_result"
        }
      ],
      "source": [
        "movie=movie_rating[['id','title','tags']]\n",
        "print('\\n final dataset \\n ')\n",
        "movie.head(5)"
      ]
    },
    {
      "cell_type": "code",
      "execution_count": 38,
      "metadata": {
        "colab": {
          "base_uri": "https://localhost:8080/",
          "height": 127
        },
        "execution": {
          "iopub.execute_input": "2023-12-07T06:58:05.348778Z",
          "iopub.status.busy": "2023-12-07T06:58:05.348318Z",
          "iopub.status.idle": "2023-12-07T06:58:05.361921Z",
          "shell.execute_reply": "2023-12-07T06:58:05.360700Z",
          "shell.execute_reply.started": "2023-12-07T06:58:05.348745Z"
        },
        "id": "IVH6n_hpHa5D",
        "outputId": "179f0f64-aa7f-4ef6-b633-4fe771ec4cca",
        "trusted": true
      },
      "outputs": [
        {
          "data": {
            "text/plain": [
              "'Action Adventure Fantasy ScienceFiction cultureclash future spacewar spacecolony society spacetravel futuristic romance space alien tribe alienplanet cgi marine soldier battle loveaffair antiwar powerrelations mindandsoul 3d In the 22nd century, a paraplegic Marine is dispatched to the moon Pandora on a unique mission, but becomes torn between following orders and protecting an alien civilization. SamWorthington ZoeSaldana SigourneyWeaver StephenLang MichelleRodriguez GiovanniRibisi JoelDavidMoore CCHPounder WesStudi LazAlonso DileepRao MattGerald SeanAnthonyMoran JasonWhyte ScottLawrence KellyKilgour JamesPatrickPitt SeanPatrickMurphy PeterDillon KevinDorman KelsonHenderson DavidVanHorn JacobTomuri MichaelBlain-Rozgay JonCurry LukeHawker WoodySchultz PeterMensah SoniaYee JahnelCurfman IlramChoi KylaWarren LisaRoumain DebraWilson ChrisMala TaylorKibby JodieLandau JulieLamm CullenB.Madden JosephBradyMadden FrankieTorres AustinWilson SaraWilson TamicaWashington-Miller LucyBriant NathanMeister GerryBlair MatthewChamberlain PaulYates WrayWilson JamesGaylyn MelvinLenoClarkIII CarvonFutrell BrandonJelkes MicahMoch HanniyahMuhammad ChristopherNolen ChristaOliver AprilMarieThomas BravitaA.Threatt ColinBleasdale MikeBodnar MattClayton NicoleDionne JamieHarrison AllanHenry AnthonyIngruber AshleyJeffery DeanKnowsley JosephMika-Hunt TerryNotary KaiPantano LoganPithyou StuartPollock Raja GarethRuck RhianSheehan T.J.Storm JodieTaylor AliciaVela-Bailey RichardWhiteside NikieZambo JuleneRenee James Cameron'"
            ]
          },
          "execution_count": 38,
          "metadata": {},
          "output_type": "execute_result"
        }
      ],
      "source": [
        "movie['tags'][0]"
      ]
    },
    {
      "cell_type": "code",
      "execution_count": 39,
      "metadata": {
        "colab": {
          "base_uri": "https://localhost:8080/"
        },
        "execution": {
          "iopub.execute_input": "2023-12-07T06:58:05.363808Z",
          "iopub.status.busy": "2023-12-07T06:58:05.363356Z",
          "iopub.status.idle": "2023-12-07T06:58:05.394410Z",
          "shell.execute_reply": "2023-12-07T06:58:05.392842Z",
          "shell.execute_reply.started": "2023-12-07T06:58:05.363772Z"
        },
        "id": "lWkFoVpNHa5D",
        "outputId": "9c1a3849-b8b0-4794-8793-9a2ab0ae9b03",
        "trusted": true
      },
      "outputs": [
        {
          "name": "stderr",
          "output_type": "stream",
          "text": [
            "C:\\Users\\chaud\\AppData\\Local\\Temp\\ipykernel_1852\\3815288682.py:1: SettingWithCopyWarning: \n",
            "A value is trying to be set on a copy of a slice from a DataFrame.\n",
            "Try using .loc[row_indexer,col_indexer] = value instead\n",
            "\n",
            "See the caveats in the documentation: https://pandas.pydata.org/pandas-docs/stable/user_guide/indexing.html#returning-a-view-versus-a-copy\n",
            "  movie['tags'] = movie['tags'].apply(lambda x: x.lower())\n"
          ]
        }
      ],
      "source": [
        "movie['tags'] = movie['tags'].apply(lambda x: x.lower())\n",
        "# movie['tags'] = movie['tags'].apply(lambda x: x.lower())"
      ]
    },
    {
      "cell_type": "code",
      "execution_count": 40,
      "metadata": {
        "colab": {
          "base_uri": "https://localhost:8080/",
          "height": 143
        },
        "execution": {
          "iopub.execute_input": "2023-12-07T06:58:05.396378Z",
          "iopub.status.busy": "2023-12-07T06:58:05.395842Z",
          "iopub.status.idle": "2023-12-07T06:58:05.412763Z",
          "shell.execute_reply": "2023-12-07T06:58:05.411427Z",
          "shell.execute_reply.started": "2023-12-07T06:58:05.396333Z"
        },
        "id": "vXkuRAdUHa5D",
        "outputId": "278ed8d6-41cf-4fab-b7d5-ac1736967e28",
        "trusted": true
      },
      "outputs": [
        {
          "data": {
            "text/html": [
              "<div>\n",
              "<style scoped>\n",
              "    .dataframe tbody tr th:only-of-type {\n",
              "        vertical-align: middle;\n",
              "    }\n",
              "\n",
              "    .dataframe tbody tr th {\n",
              "        vertical-align: top;\n",
              "    }\n",
              "\n",
              "    .dataframe thead th {\n",
              "        text-align: right;\n",
              "    }\n",
              "</style>\n",
              "<table border=\"1\" class=\"dataframe\">\n",
              "  <thead>\n",
              "    <tr style=\"text-align: right;\">\n",
              "      <th></th>\n",
              "      <th>id</th>\n",
              "      <th>title</th>\n",
              "      <th>tags</th>\n",
              "    </tr>\n",
              "  </thead>\n",
              "  <tbody>\n",
              "    <tr>\n",
              "      <th>0</th>\n",
              "      <td>19995</td>\n",
              "      <td>Avatar</td>\n",
              "      <td>action adventure fantasy sciencefiction cultur...</td>\n",
              "    </tr>\n",
              "    <tr>\n",
              "      <th>1</th>\n",
              "      <td>285</td>\n",
              "      <td>Pirates of the Caribbean: At World's End</td>\n",
              "      <td>adventure fantasy action ocean drugabuse exoti...</td>\n",
              "    </tr>\n",
              "    <tr>\n",
              "      <th>2</th>\n",
              "      <td>206647</td>\n",
              "      <td>Spectre</td>\n",
              "      <td>action adventure crime spy basedonnovel secret...</td>\n",
              "    </tr>\n",
              "  </tbody>\n",
              "</table>\n",
              "</div>"
            ],
            "text/plain": [
              "       id                                     title  \\\n",
              "0   19995                                    Avatar   \n",
              "1     285  Pirates of the Caribbean: At World's End   \n",
              "2  206647                                   Spectre   \n",
              "\n",
              "                                                tags  \n",
              "0  action adventure fantasy sciencefiction cultur...  \n",
              "1  adventure fantasy action ocean drugabuse exoti...  \n",
              "2  action adventure crime spy basedonnovel secret...  "
            ]
          },
          "execution_count": 40,
          "metadata": {},
          "output_type": "execute_result"
        }
      ],
      "source": [
        "movie.head(3)\n",
        "# now first create all tags  verctor using ibuild libary"
      ]
    },
    {
      "cell_type": "code",
      "execution_count": 41,
      "metadata": {
        "execution": {
          "iopub.execute_input": "2023-12-07T06:58:05.415325Z",
          "iopub.status.busy": "2023-12-07T06:58:05.414602Z",
          "iopub.status.idle": "2023-12-07T06:58:05.985857Z",
          "shell.execute_reply": "2023-12-07T06:58:05.984441Z",
          "shell.execute_reply.started": "2023-12-07T06:58:05.415258Z"
        },
        "id": "UaCnw0gKHa5D",
        "trusted": true
      },
      "outputs": [],
      "source": [
        "# for create tages into the vectores need to  countvectorizer\n",
        "# create vectors maximum 1000 and wording in english\n",
        "from sklearn.feature_extraction.text import CountVectorizer\n",
        "c_vector=CountVectorizer(stop_words='english',max_features=5000)"
      ]
    },
    {
      "cell_type": "code",
      "execution_count": 42,
      "metadata": {
        "execution": {
          "iopub.execute_input": "2023-12-07T06:58:05.987661Z",
          "iopub.status.busy": "2023-12-07T06:58:05.987214Z",
          "iopub.status.idle": "2023-12-07T06:58:07.078634Z",
          "shell.execute_reply": "2023-12-07T06:58:07.077240Z",
          "shell.execute_reply.started": "2023-12-07T06:58:05.987624Z"
        },
        "id": "Hq66V02PHa5D",
        "trusted": true
      },
      "outputs": [],
      "source": [
        "vectors=c_vector.fit_transform(movie['tags']).toarray()"
      ]
    },
    {
      "cell_type": "code",
      "execution_count": 43,
      "metadata": {
        "colab": {
          "base_uri": "https://localhost:8080/"
        },
        "execution": {
          "iopub.execute_input": "2023-12-07T06:58:07.081220Z",
          "iopub.status.busy": "2023-12-07T06:58:07.080686Z",
          "iopub.status.idle": "2023-12-07T06:58:07.090535Z",
          "shell.execute_reply": "2023-12-07T06:58:07.089172Z",
          "shell.execute_reply.started": "2023-12-07T06:58:07.081171Z"
        },
        "id": "RXsroKP4Ha5D",
        "outputId": "fb82ddd8-0de8-4319-8dfc-da4fe2a723ba",
        "trusted": true
      },
      "outputs": [
        {
          "data": {
            "text/plain": [
              "array([0, 0, 0, ..., 0, 0, 0], dtype=int64)"
            ]
          },
          "execution_count": 43,
          "metadata": {},
          "output_type": "execute_result"
        }
      ],
      "source": [
        "vectors[0]"
      ]
    },
    {
      "cell_type": "code",
      "execution_count": 44,
      "metadata": {
        "colab": {
          "base_uri": "https://localhost:8080/"
        },
        "execution": {
          "iopub.execute_input": "2023-12-07T06:58:07.093078Z",
          "iopub.status.busy": "2023-12-07T06:58:07.092267Z",
          "iopub.status.idle": "2023-12-07T06:58:07.111105Z",
          "shell.execute_reply": "2023-12-07T06:58:07.109850Z",
          "shell.execute_reply.started": "2023-12-07T06:58:07.093034Z"
        },
        "id": "mTk6Urm4Ha5E",
        "outputId": "97ad6c65-cd9f-422b-efb5-bba64e346e3d",
        "trusted": true
      },
      "outputs": [
        {
          "data": {
            "text/plain": [
              "array(['000', '007', '10', ..., 'zoo', 'zooeydeschanel', 'zoëkravitz'],\n",
              "      dtype=object)"
            ]
          },
          "execution_count": 44,
          "metadata": {},
          "output_type": "execute_result"
        }
      ],
      "source": [
        "# check out values\n",
        "c_vector.get_feature_names_out()\n",
        "# len(c_vector.get_feature_names_out())"
      ]
    },
    {
      "cell_type": "code",
      "execution_count": 46,
      "metadata": {},
      "outputs": [
        {
          "name": "stdout",
          "output_type": "stream",
          "text": [
            "Collecting nltk\n",
            "  Downloading nltk-3.8.1-py3-none-any.whl (1.5 MB)\n",
            "     ---------------------------------------- 0.0/1.5 MB ? eta -:--:--\n",
            "     ------------- -------------------------- 0.5/1.5 MB 10.7 MB/s eta 0:00:01\n",
            "     ----------------------------- ---------- 1.1/1.5 MB 11.5 MB/s eta 0:00:01\n",
            "     ---------------------------------------  1.5/1.5 MB 12.0 MB/s eta 0:00:01\n",
            "     ---------------------------------------- 1.5/1.5 MB 9.6 MB/s eta 0:00:00\n",
            "Requirement already satisfied: click in c:\\users\\chaud\\appdata\\local\\programs\\python\\python312\\lib\\site-packages (from nltk) (8.1.7)\n",
            "Requirement already satisfied: joblib in c:\\users\\chaud\\appdata\\local\\programs\\python\\python312\\lib\\site-packages (from nltk) (1.3.2)\n",
            "Collecting regex>=2021.8.3 (from nltk)\n",
            "  Downloading regex-2023.12.25-cp312-cp312-win_amd64.whl.metadata (41 kB)\n",
            "     ---------------------------------------- 0.0/42.0 kB ? eta -:--:--\n",
            "     ---------------------------------------- 42.0/42.0 kB ? eta 0:00:00\n",
            "Collecting tqdm (from nltk)\n",
            "  Downloading tqdm-4.66.1-py3-none-any.whl.metadata (57 kB)\n",
            "     ---------------------------------------- 0.0/57.6 kB ? eta -:--:--\n",
            "     ---------------------------------------- 57.6/57.6 kB 3.2 MB/s eta 0:00:00\n",
            "Requirement already satisfied: colorama in c:\\users\\chaud\\appdata\\local\\programs\\python\\python312\\lib\\site-packages (from click->nltk) (0.4.6)\n",
            "Downloading regex-2023.12.25-cp312-cp312-win_amd64.whl (268 kB)\n",
            "   ---------------------------------------- 0.0/268.9 kB ? eta -:--:--\n",
            "   ---------------------------------------- 268.9/268.9 kB 8.1 MB/s eta 0:00:00\n",
            "Downloading tqdm-4.66.1-py3-none-any.whl (78 kB)\n",
            "   ---------------------------------------- 0.0/78.3 kB ? eta -:--:--\n",
            "   ---------------------------------------- 78.3/78.3 kB 4.3 MB/s eta 0:00:00\n",
            "Installing collected packages: tqdm, regex, nltk\n",
            "Successfully installed nltk-3.8.1 regex-2023.12.25 tqdm-4.66.1\n"
          ]
        }
      ],
      "source": [
        "!pip install nltk"
      ]
    },
    {
      "cell_type": "code",
      "execution_count": 47,
      "metadata": {
        "execution": {
          "iopub.execute_input": "2023-12-07T06:58:07.112947Z",
          "iopub.status.busy": "2023-12-07T06:58:07.112542Z",
          "iopub.status.idle": "2023-12-07T06:58:07.981136Z",
          "shell.execute_reply": "2023-12-07T06:58:07.979807Z",
          "shell.execute_reply.started": "2023-12-07T06:58:07.112914Z"
        },
        "id": "xGCoBqW5Ha5E",
        "trusted": true
      },
      "outputs": [],
      "source": [
        "# this is alorithm conver word into there original form  ex. loving , loved and ans is love\n",
        "\n",
        "\n",
        "from nltk.stem.porter import PorterStemmer\n",
        "\n",
        "na_con=PorterStemmer()\n"
      ]
    },
    {
      "cell_type": "code",
      "execution_count": 48,
      "metadata": {
        "execution": {
          "iopub.execute_input": "2023-12-07T06:58:07.983192Z",
          "iopub.status.busy": "2023-12-07T06:58:07.982797Z",
          "iopub.status.idle": "2023-12-07T06:58:07.990231Z",
          "shell.execute_reply": "2023-12-07T06:58:07.988845Z",
          "shell.execute_reply.started": "2023-12-07T06:58:07.983157Z"
        },
        "id": "jWNR_LUWHa5E",
        "trusted": true
      },
      "outputs": [],
      "source": [
        "\n",
        "def nature_con(obj):\n",
        "    wd=[]\n",
        "    for i in obj.split():\n",
        "        wd.append(na_con.stem(i))\n",
        "    return \" \".join(wd)\n",
        "\n"
      ]
    },
    {
      "cell_type": "code",
      "execution_count": 49,
      "metadata": {
        "colab": {
          "base_uri": "https://localhost:8080/",
          "height": 36
        },
        "execution": {
          "iopub.execute_input": "2023-12-07T06:58:07.991808Z",
          "iopub.status.busy": "2023-12-07T06:58:07.991460Z",
          "iopub.status.idle": "2023-12-07T06:58:08.003529Z",
          "shell.execute_reply": "2023-12-07T06:58:08.002379Z",
          "shell.execute_reply.started": "2023-12-07T06:58:07.991779Z"
        },
        "id": "rjo-idl2Ha5E",
        "outputId": "432a0647-5f7d-44c3-fe22-31f094aa07b7",
        "trusted": true
      },
      "outputs": [
        {
          "data": {
            "text/plain": [
              "'love'"
            ]
          },
          "execution_count": 49,
          "metadata": {},
          "output_type": "execute_result"
        }
      ],
      "source": [
        "na_con.stem('loving')"
      ]
    },
    {
      "cell_type": "code",
      "execution_count": 50,
      "metadata": {
        "colab": {
          "base_uri": "https://localhost:8080/"
        },
        "execution": {
          "iopub.execute_input": "2023-12-07T06:58:08.005162Z",
          "iopub.status.busy": "2023-12-07T06:58:08.004814Z",
          "iopub.status.idle": "2023-12-07T06:58:22.655217Z",
          "shell.execute_reply": "2023-12-07T06:58:22.653893Z",
          "shell.execute_reply.started": "2023-12-07T06:58:08.005134Z"
        },
        "id": "2dF7391_Ha5E",
        "outputId": "50837471-3bfb-40f4-9186-8f64f744013b",
        "trusted": true
      },
      "outputs": [
        {
          "name": "stderr",
          "output_type": "stream",
          "text": [
            "C:\\Users\\chaud\\AppData\\Local\\Temp\\ipykernel_1852\\3386152617.py:1: SettingWithCopyWarning: \n",
            "A value is trying to be set on a copy of a slice from a DataFrame.\n",
            "Try using .loc[row_indexer,col_indexer] = value instead\n",
            "\n",
            "See the caveats in the documentation: https://pandas.pydata.org/pandas-docs/stable/user_guide/indexing.html#returning-a-view-versus-a-copy\n",
            "  movie['tags']=movie['tags'].apply(nature_con)\n"
          ]
        }
      ],
      "source": [
        "movie['tags']=movie['tags'].apply(nature_con)\n",
        "# now rerun conutvectorization function and now get changes and dublicase remove it now"
      ]
    },
    {
      "cell_type": "code",
      "execution_count": 51,
      "metadata": {
        "colab": {
          "base_uri": "https://localhost:8080/",
          "height": 206
        },
        "execution": {
          "iopub.execute_input": "2023-12-07T06:58:22.656671Z",
          "iopub.status.busy": "2023-12-07T06:58:22.656293Z",
          "iopub.status.idle": "2023-12-07T06:58:22.669532Z",
          "shell.execute_reply": "2023-12-07T06:58:22.668222Z",
          "shell.execute_reply.started": "2023-12-07T06:58:22.656640Z"
        },
        "id": "wicFA2LPHa5L",
        "outputId": "68224a34-e48a-4f37-ebe8-0b7194b03c21",
        "trusted": true
      },
      "outputs": [
        {
          "data": {
            "text/html": [
              "<div>\n",
              "<style scoped>\n",
              "    .dataframe tbody tr th:only-of-type {\n",
              "        vertical-align: middle;\n",
              "    }\n",
              "\n",
              "    .dataframe tbody tr th {\n",
              "        vertical-align: top;\n",
              "    }\n",
              "\n",
              "    .dataframe thead th {\n",
              "        text-align: right;\n",
              "    }\n",
              "</style>\n",
              "<table border=\"1\" class=\"dataframe\">\n",
              "  <thead>\n",
              "    <tr style=\"text-align: right;\">\n",
              "      <th></th>\n",
              "      <th>id</th>\n",
              "      <th>title</th>\n",
              "      <th>tags</th>\n",
              "    </tr>\n",
              "  </thead>\n",
              "  <tbody>\n",
              "    <tr>\n",
              "      <th>0</th>\n",
              "      <td>19995</td>\n",
              "      <td>Avatar</td>\n",
              "      <td>action adventur fantasi sciencefict culturecla...</td>\n",
              "    </tr>\n",
              "    <tr>\n",
              "      <th>1</th>\n",
              "      <td>285</td>\n",
              "      <td>Pirates of the Caribbean: At World's End</td>\n",
              "      <td>adventur fantasi action ocean drugabus exotici...</td>\n",
              "    </tr>\n",
              "    <tr>\n",
              "      <th>2</th>\n",
              "      <td>206647</td>\n",
              "      <td>Spectre</td>\n",
              "      <td>action adventur crime spi basedonnovel secreta...</td>\n",
              "    </tr>\n",
              "    <tr>\n",
              "      <th>3</th>\n",
              "      <td>49026</td>\n",
              "      <td>The Dark Knight Rises</td>\n",
              "      <td>action crime drama thriller dccomic crimefight...</td>\n",
              "    </tr>\n",
              "    <tr>\n",
              "      <th>4</th>\n",
              "      <td>49529</td>\n",
              "      <td>John Carter</td>\n",
              "      <td>action adventur sciencefict basedonnovel mar m...</td>\n",
              "    </tr>\n",
              "  </tbody>\n",
              "</table>\n",
              "</div>"
            ],
            "text/plain": [
              "       id                                     title  \\\n",
              "0   19995                                    Avatar   \n",
              "1     285  Pirates of the Caribbean: At World's End   \n",
              "2  206647                                   Spectre   \n",
              "3   49026                     The Dark Knight Rises   \n",
              "4   49529                               John Carter   \n",
              "\n",
              "                                                tags  \n",
              "0  action adventur fantasi sciencefict culturecla...  \n",
              "1  adventur fantasi action ocean drugabus exotici...  \n",
              "2  action adventur crime spi basedonnovel secreta...  \n",
              "3  action crime drama thriller dccomic crimefight...  \n",
              "4  action adventur sciencefict basedonnovel mar m...  "
            ]
          },
          "execution_count": 51,
          "metadata": {},
          "output_type": "execute_result"
        }
      ],
      "source": [
        "movie.head(5)"
      ]
    },
    {
      "cell_type": "code",
      "execution_count": 52,
      "metadata": {
        "execution": {
          "iopub.execute_input": "2023-12-07T06:58:22.672670Z",
          "iopub.status.busy": "2023-12-07T06:58:22.671212Z",
          "iopub.status.idle": "2023-12-07T06:58:25.019348Z",
          "shell.execute_reply": "2023-12-07T06:58:25.018012Z",
          "shell.execute_reply.started": "2023-12-07T06:58:22.672623Z"
        },
        "id": "gngDrW-qHa5M",
        "trusted": true
      },
      "outputs": [],
      "source": [
        "# now all off vector find consine distance  not a euclidean_distances\n",
        "from sklearn.metrics.pairwise import cosine_similarity\n",
        "\n",
        "#apply on the vector\n",
        "similarity_score=cosine_similarity(vectors)\n"
      ]
    },
    {
      "cell_type": "raw",
      "metadata": {
        "execution": {
          "iopub.execute_input": "2023-12-07T03:32:13.124905Z",
          "iopub.status.busy": "2023-12-07T03:32:13.124554Z",
          "iopub.status.idle": "2023-12-07T03:32:13.348072Z",
          "shell.execute_reply": "2023-12-07T03:32:13.346700Z",
          "shell.execute_reply.started": "2023-12-07T03:32:13.124880Z"
        },
        "id": "wl3zirfQHa5M"
      },
      "source": [
        "vectors"
      ]
    },
    {
      "cell_type": "code",
      "execution_count": 53,
      "metadata": {
        "colab": {
          "base_uri": "https://localhost:8080/"
        },
        "execution": {
          "iopub.execute_input": "2023-12-07T06:58:25.022326Z",
          "iopub.status.busy": "2023-12-07T06:58:25.020986Z",
          "iopub.status.idle": "2023-12-07T06:58:25.036966Z",
          "shell.execute_reply": "2023-12-07T06:58:25.036066Z",
          "shell.execute_reply.started": "2023-12-07T06:58:25.022261Z"
        },
        "id": "6H3lgXX0Ha5M",
        "outputId": "7c45934b-79aa-47ee-d0cf-1c68dc614556",
        "trusted": true
      },
      "outputs": [
        {
          "data": {
            "text/plain": [
              "[(29, 0.3891882645212856),\n",
              " (11, 0.36440544440674755),\n",
              " (1346, 0.3200921998322399),\n",
              " (3167, 0.25724787771376323),\n",
              " (4078, 0.254000254000381),\n",
              " (1723, 0.23570226039551584)]"
            ]
          },
          "execution_count": 53,
          "metadata": {},
          "output_type": "execute_result"
        }
      ],
      "source": [
        "# check out similarity score with there movie  0 = movie_index similarity score  1\n",
        "# list(enumarate(similarity_score[0])) # spelling mistake\n",
        "sorted(list(enumerate(similarity_score[2])),reverse=True,key= lambda x: x[1])[1:7]  # sort for the higest in top and lowest in the bottom\n",
        "# sort create list emurate(stuck values) sm_socre on desending  key (based on second column not first [1;7] top 6 movie chahiye)\n",
        "# list(enumerate(similarity_score[0]))"
      ]
    },
    {
      "cell_type": "code",
      "execution_count": 54,
      "metadata": {
        "colab": {
          "base_uri": "https://localhost:8080/"
        },
        "execution": {
          "iopub.execute_input": "2023-12-07T06:58:25.038753Z",
          "iopub.status.busy": "2023-12-07T06:58:25.038376Z",
          "iopub.status.idle": "2023-12-07T06:58:25.751992Z",
          "shell.execute_reply": "2023-12-07T06:58:25.750364Z",
          "shell.execute_reply.started": "2023-12-07T06:58:25.038721Z"
        },
        "id": "zjLGHCyCHa5M",
        "outputId": "c796c3d0-109e-4006-8435-17db690594eb",
        "trusted": true
      },
      "outputs": [
        {
          "name": "stdout",
          "output_type": "stream",
          "text": [
            "Recommended movies for 'Avatar':\n",
            "Lifeforce\n",
            "Aliens Vs Predator: Requiem\n",
            "Aliens\n",
            "Battle: Los Angeles\n",
            "Titan A.E.\n",
            "Independence Day\n"
          ]
        }
      ],
      "source": [
        "\n",
        "# def recommend(movie_name):\n",
        "#     mv_index = movie[movie['title'] == movie_name].index[0]\n",
        "#     distance = similarity_score[mv_index]\n",
        "#     rec_mov = sorted(list(enumerate(distance)), reverse=True, key=lambda x: x[1])[1:7]\n",
        "#     for i in rec_mov:\n",
        "#         print(movie.iloc[(i[0])].title)\n",
        "\n",
        "\n",
        "def recommend(movie_name):\n",
        "    # Check if the movie is in the dataset\n",
        "    if movie_name in movie['title'].values:\n",
        "        mv_index = movie[movie['title'] == movie_name].index[0]\n",
        "        distance = similarity_score[mv_index]\n",
        "        rec_mov = sorted(list(enumerate(distance)), reverse=True, key=lambda x: x[1])[1:7]\n",
        "\n",
        "        print(f\"Recommended movies for '{movie_name}':\")\n",
        "        for i in rec_mov:\n",
        "            recommended_title = movie.iloc[i[0]]['title']\n",
        "            print(recommended_title.title())\n",
        "    else:\n",
        "        print(f\"The movie '{movie_name}' is not found in the dataset.\")\n",
        "\n",
        "# Example usage:\n",
        "recommend('Avatar')\n",
        "\n"
      ]
    },
    {
      "cell_type": "code",
      "execution_count": 55,
      "metadata": {
        "colab": {
          "base_uri": "https://localhost:8080/"
        },
        "execution": {
          "iopub.status.busy": "2023-12-07T06:58:25.753250Z",
          "iopub.status.idle": "2023-12-07T06:58:25.753759Z",
          "shell.execute_reply": "2023-12-07T06:58:25.753570Z",
          "shell.execute_reply.started": "2023-12-07T06:58:25.753548Z"
        },
        "id": "d73lCBBHHa5M",
        "outputId": "e8df08d0-a09f-42be-a919-879a98661393",
        "trusted": true
      },
      "outputs": [
        {
          "name": "stdout",
          "output_type": "stream",
          "text": [
            "Recommended movies for 'Avatar':\n",
            "Lifeforce\n",
            "Aliens Vs Predator: Requiem\n",
            "Aliens\n",
            "Battle: Los Angeles\n",
            "Titan A.E.\n",
            "Independence Day\n"
          ]
        }
      ],
      "source": [
        "\n",
        "# recommend('John Carter')\n",
        "recommend('Avatar')"
      ]
    },
    {
      "cell_type": "code",
      "execution_count": 56,
      "metadata": {
        "colab": {
          "base_uri": "https://localhost:8080/"
        },
        "execution": {
          "iopub.status.busy": "2023-12-07T06:58:25.754889Z",
          "iopub.status.idle": "2023-12-07T06:58:25.755369Z",
          "shell.execute_reply": "2023-12-07T06:58:25.755153Z",
          "shell.execute_reply.started": "2023-12-07T06:58:25.755134Z"
        },
        "id": "27PyAfRkHa5M",
        "outputId": "adf50594-dd7e-446d-ac9c-657f58225ce0",
        "trusted": true
      },
      "outputs": [
        {
          "data": {
            "text/plain": [
              "Index([4], dtype='int64')"
            ]
          },
          "execution_count": 56,
          "metadata": {},
          "output_type": "execute_result"
        }
      ],
      "source": [
        "movie[movie['title'] == 'John Carter'].index # try to find index"
      ]
    },
    {
      "cell_type": "code",
      "execution_count": 57,
      "metadata": {
        "colab": {
          "base_uri": "https://localhost:8080/"
        },
        "execution": {
          "iopub.status.busy": "2023-12-07T06:58:25.756571Z",
          "iopub.status.idle": "2023-12-07T06:58:25.756976Z",
          "shell.execute_reply": "2023-12-07T06:58:25.756793Z",
          "shell.execute_reply.started": "2023-12-07T06:58:25.756776Z"
        },
        "id": "_A787bvRHa5M",
        "outputId": "0ac03c9e-de1d-4d8d-95cb-b2bd67604ecb",
        "trusted": true
      },
      "outputs": [
        {
          "name": "stdout",
          "output_type": "stream",
          "text": [
            "Spirit: Stallion Of The Cimarron\n",
            "Home\n",
            "Escape From Planet Earth\n",
            "U.F.O.\n",
            "E.T. The Extra-Terrestrial\n",
            "Lifeforce\n"
          ]
        },
        {
          "name": "stderr",
          "output_type": "stream",
          "text": [
            "C:\\Users\\chaud\\AppData\\Local\\Temp\\ipykernel_1852\\1357064254.py:6: SettingWithCopyWarning: \n",
            "A value is trying to be set on a copy of a slice from a DataFrame.\n",
            "Try using .loc[row_indexer,col_indexer] = value instead\n",
            "\n",
            "See the caveats in the documentation: https://pandas.pydata.org/pandas-docs/stable/user_guide/indexing.html#returning-a-view-versus-a-copy\n",
            "  movie['title_lower'] = movie['title'].str.lower()\n"
          ]
        }
      ],
      "source": [
        "def recommend(movie_name):\n",
        "    # Convert input movie name to lowercase\n",
        "    movie_name_lower = movie_name.lower()\n",
        "\n",
        "    # Convert all titles in the DataFrame to lowercase\n",
        "    movie['title_lower'] = movie['title'].str.lower()\n",
        "\n",
        "    # Find the index of the movie in lowercase\n",
        "    mv_index = movie[movie['title_lower'] == movie_name_lower].index\n",
        "    if len(mv_index) == 0:\n",
        "        print(\"Movie not found.\")\n",
        "        return\n",
        "\n",
        "    # Use the first index (assuming there are no duplicates)\n",
        "    mv_index = mv_index[0]\n",
        "\n",
        "    # Calculate similarity scores\n",
        "    distance = similarity_score[mv_index]\n",
        "\n",
        "    # Get recommended movies\n",
        "    rec_mov = sorted(list(enumerate(distance)), reverse=True, key=lambda x: x[1])[1:7]\n",
        "\n",
        "    # Print recommended movie titles\n",
        "    for i in rec_mov:\n",
        "        recommended_title = movie.iloc[i[0]]['title']\n",
        "        print(recommended_title.title())\n",
        "\n",
        "# Example usage:\n",
        "recommend('Titan A.e.')  # Case-insensitive recommendation\n"
      ]
    },
    {
      "cell_type": "code",
      "execution_count": 58,
      "metadata": {
        "colab": {
          "base_uri": "https://localhost:8080/",
          "height": 423
        },
        "execution": {
          "iopub.status.busy": "2023-12-07T06:58:25.757891Z",
          "iopub.status.idle": "2023-12-07T06:58:25.758265Z",
          "shell.execute_reply": "2023-12-07T06:58:25.758098Z",
          "shell.execute_reply.started": "2023-12-07T06:58:25.758080Z"
        },
        "id": "mJKabQ-uHa5N",
        "outputId": "e2b4e1db-8d63-4ec1-864a-8a58d28115ab",
        "trusted": true
      },
      "outputs": [
        {
          "data": {
            "text/html": [
              "<div>\n",
              "<style scoped>\n",
              "    .dataframe tbody tr th:only-of-type {\n",
              "        vertical-align: middle;\n",
              "    }\n",
              "\n",
              "    .dataframe tbody tr th {\n",
              "        vertical-align: top;\n",
              "    }\n",
              "\n",
              "    .dataframe thead th {\n",
              "        text-align: right;\n",
              "    }\n",
              "</style>\n",
              "<table border=\"1\" class=\"dataframe\">\n",
              "  <thead>\n",
              "    <tr style=\"text-align: right;\">\n",
              "      <th></th>\n",
              "      <th>id</th>\n",
              "      <th>title</th>\n",
              "      <th>tags</th>\n",
              "      <th>title_lower</th>\n",
              "    </tr>\n",
              "  </thead>\n",
              "  <tbody>\n",
              "    <tr>\n",
              "      <th>0</th>\n",
              "      <td>19995</td>\n",
              "      <td>Avatar</td>\n",
              "      <td>action adventur fantasi sciencefict culturecla...</td>\n",
              "      <td>avatar</td>\n",
              "    </tr>\n",
              "    <tr>\n",
              "      <th>1</th>\n",
              "      <td>285</td>\n",
              "      <td>Pirates of the Caribbean: At World's End</td>\n",
              "      <td>adventur fantasi action ocean drugabus exotici...</td>\n",
              "      <td>pirates of the caribbean: at world's end</td>\n",
              "    </tr>\n",
              "    <tr>\n",
              "      <th>2</th>\n",
              "      <td>206647</td>\n",
              "      <td>Spectre</td>\n",
              "      <td>action adventur crime spi basedonnovel secreta...</td>\n",
              "      <td>spectre</td>\n",
              "    </tr>\n",
              "    <tr>\n",
              "      <th>3</th>\n",
              "      <td>49026</td>\n",
              "      <td>The Dark Knight Rises</td>\n",
              "      <td>action crime drama thriller dccomic crimefight...</td>\n",
              "      <td>the dark knight rises</td>\n",
              "    </tr>\n",
              "    <tr>\n",
              "      <th>4</th>\n",
              "      <td>49529</td>\n",
              "      <td>John Carter</td>\n",
              "      <td>action adventur sciencefict basedonnovel mar m...</td>\n",
              "      <td>john carter</td>\n",
              "    </tr>\n",
              "    <tr>\n",
              "      <th>...</th>\n",
              "      <td>...</td>\n",
              "      <td>...</td>\n",
              "      <td>...</td>\n",
              "      <td>...</td>\n",
              "    </tr>\n",
              "    <tr>\n",
              "      <th>4804</th>\n",
              "      <td>9367</td>\n",
              "      <td>El Mariachi</td>\n",
              "      <td>action crime thriller unitedstates–mexicobarri...</td>\n",
              "      <td>el mariachi</td>\n",
              "    </tr>\n",
              "    <tr>\n",
              "      <th>4805</th>\n",
              "      <td>72766</td>\n",
              "      <td>Newlyweds</td>\n",
              "      <td>comedi romanc a newlyw couple' honeymoon is up...</td>\n",
              "      <td>newlyweds</td>\n",
              "    </tr>\n",
              "    <tr>\n",
              "      <th>4806</th>\n",
              "      <td>231617</td>\n",
              "      <td>Signed, Sealed, Delivered</td>\n",
              "      <td>comedi drama romanc tvmovi date loveatfirstsig...</td>\n",
              "      <td>signed, sealed, delivered</td>\n",
              "    </tr>\n",
              "    <tr>\n",
              "      <th>4807</th>\n",
              "      <td>126186</td>\n",
              "      <td>Shanghai Calling</td>\n",
              "      <td>when ambiti new york attorney sam is sent to s...</td>\n",
              "      <td>shanghai calling</td>\n",
              "    </tr>\n",
              "    <tr>\n",
              "      <th>4808</th>\n",
              "      <td>25975</td>\n",
              "      <td>My Date with Drew</td>\n",
              "      <td>documentari obsess camcord crush dreamgirl eve...</td>\n",
              "      <td>my date with drew</td>\n",
              "    </tr>\n",
              "  </tbody>\n",
              "</table>\n",
              "<p>4809 rows × 4 columns</p>\n",
              "</div>"
            ],
            "text/plain": [
              "          id                                     title  \\\n",
              "0      19995                                    Avatar   \n",
              "1        285  Pirates of the Caribbean: At World's End   \n",
              "2     206647                                   Spectre   \n",
              "3      49026                     The Dark Knight Rises   \n",
              "4      49529                               John Carter   \n",
              "...      ...                                       ...   \n",
              "4804    9367                               El Mariachi   \n",
              "4805   72766                                 Newlyweds   \n",
              "4806  231617                 Signed, Sealed, Delivered   \n",
              "4807  126186                          Shanghai Calling   \n",
              "4808   25975                         My Date with Drew   \n",
              "\n",
              "                                                   tags  \\\n",
              "0     action adventur fantasi sciencefict culturecla...   \n",
              "1     adventur fantasi action ocean drugabus exotici...   \n",
              "2     action adventur crime spi basedonnovel secreta...   \n",
              "3     action crime drama thriller dccomic crimefight...   \n",
              "4     action adventur sciencefict basedonnovel mar m...   \n",
              "...                                                 ...   \n",
              "4804  action crime thriller unitedstates–mexicobarri...   \n",
              "4805  comedi romanc a newlyw couple' honeymoon is up...   \n",
              "4806  comedi drama romanc tvmovi date loveatfirstsig...   \n",
              "4807  when ambiti new york attorney sam is sent to s...   \n",
              "4808  documentari obsess camcord crush dreamgirl eve...   \n",
              "\n",
              "                                   title_lower  \n",
              "0                                       avatar  \n",
              "1     pirates of the caribbean: at world's end  \n",
              "2                                      spectre  \n",
              "3                        the dark knight rises  \n",
              "4                                  john carter  \n",
              "...                                        ...  \n",
              "4804                               el mariachi  \n",
              "4805                                 newlyweds  \n",
              "4806                 signed, sealed, delivered  \n",
              "4807                          shanghai calling  \n",
              "4808                         my date with drew  \n",
              "\n",
              "[4809 rows x 4 columns]"
            ]
          },
          "execution_count": 58,
          "metadata": {},
          "output_type": "execute_result"
        }
      ],
      "source": [
        "movie"
      ]
    },
    {
      "cell_type": "code",
      "execution_count": 59,
      "metadata": {
        "execution": {
          "iopub.execute_input": "2023-12-07T06:58:37.610694Z",
          "iopub.status.busy": "2023-12-07T06:58:37.610199Z",
          "iopub.status.idle": "2023-12-07T06:58:37.625929Z",
          "shell.execute_reply": "2023-12-07T06:58:37.624826Z",
          "shell.execute_reply.started": "2023-12-07T06:58:37.610659Z"
        },
        "id": "z91cXS5QHa5N",
        "trusted": true
      },
      "outputs": [],
      "source": [
        "import pickle\n",
        "pickle.dump(movie,open('moive.pkl','wb'))"
      ]
    },
    {
      "cell_type": "code",
      "execution_count": 60,
      "metadata": {
        "id": "g9pl1ihly-1w"
      },
      "outputs": [],
      "source": [
        "import pickle\n",
        "pickle.dump(movie.to_dict,open('movie_dict.pkl','wb'))"
      ]
    },
    {
      "cell_type": "code",
      "execution_count": 61,
      "metadata": {
        "colab": {
          "base_uri": "https://localhost:8080/"
        },
        "id": "2ScYsSoeHa5N",
        "outputId": "59d5b923-d1a2-44e2-ed9c-9b0ea6a1dbd4"
      },
      "outputs": [
        {
          "data": {
            "text/plain": [
              "array(['Avatar', \"Pirates of the Caribbean: At World's End\", 'Spectre',\n",
              "       ..., 'Signed, Sealed, Delivered', 'Shanghai Calling',\n",
              "       'My Date with Drew'], dtype=object)"
            ]
          },
          "execution_count": 61,
          "metadata": {},
          "output_type": "execute_result"
        }
      ],
      "source": [
        "movie['title'].values"
      ]
    },
    {
      "cell_type": "code",
      "execution_count": 62,
      "metadata": {
        "id": "qVPN45p39uGC"
      },
      "outputs": [],
      "source": [
        "pickle.dump(similarity_score,open('similarity_score.pkl','wb'))"
      ]
    }
  ],
  "metadata": {
    "colab": {
      "provenance": []
    },
    "kaggle": {
      "accelerator": "none",
      "dataSources": [
        {
          "datasetId": 138,
          "sourceId": 4508,
          "sourceType": "datasetVersion"
        }
      ],
      "dockerImageVersionId": 30587,
      "isGpuEnabled": false,
      "isInternetEnabled": false,
      "language": "python",
      "sourceType": "notebook"
    },
    "kernelspec": {
      "display_name": "Python 3",
      "language": "python",
      "name": "python3"
    },
    "language_info": {
      "codemirror_mode": {
        "name": "ipython",
        "version": 3
      },
      "file_extension": ".py",
      "mimetype": "text/x-python",
      "name": "python",
      "nbconvert_exporter": "python",
      "pygments_lexer": "ipython3",
      "version": "3.12.0"
    }
  },
  "nbformat": 4,
  "nbformat_minor": 0
}
